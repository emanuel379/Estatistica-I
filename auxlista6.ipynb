{
  "nbformat": 4,
  "nbformat_minor": 0,
  "metadata": {
    "colab": {
      "provenance": [],
      "include_colab_link": true
    },
    "kernelspec": {
      "name": "python3",
      "display_name": "Python 3"
    },
    "language_info": {
      "name": "python"
    }
  },
  "cells": [
    {
      "cell_type": "markdown",
      "metadata": {
        "id": "view-in-github",
        "colab_type": "text"
      },
      "source": [
        "<a href=\"https://colab.research.google.com/github/emanuel379/Estatistica-I/blob/main/auxlista6.ipynb\" target=\"_parent\"><img src=\"https://colab.research.google.com/assets/colab-badge.svg\" alt=\"Open In Colab\"/></a>"
      ]
    },
    {
      "cell_type": "code",
      "execution_count": null,
      "metadata": {
        "id": "7UxU4ohehXVt"
      },
      "outputs": [],
      "source": [
        "import matplotlib.pyplot as plt\n",
        "import scipy.stats as sss\n",
        "import numpy as np\n"
      ]
    },
    {
      "cell_type": "code",
      "source": [
        "## probab de obter 60 sucessos numa amostra de 100 elementos, sendo cada elemento uma Bernoulli (p=0.5)\n",
        "pvalorbinom=1-sss.binom.cdf(60,100,0.5)\n",
        "print(pvalorbinom)"
      ],
      "metadata": {
        "colab": {
          "base_uri": "https://localhost:8080/"
        },
        "id": "RG7DyQKyiF1o",
        "outputId": "f2ee80cc-ede8-472d-dc4b-9f61f36b1a4e"
      },
      "execution_count": null,
      "outputs": [
        {
          "output_type": "stream",
          "name": "stdout",
          "text": [
            "0.01760010010885238\n"
          ]
        }
      ]
    },
    {
      "cell_type": "code",
      "source": [
        "##exo 3a\n",
        "desvioX=10\n",
        "nn=50\n",
        "## calculamos o p-valor de H0 e de Ha (mas o de Ha não se usa)\n",
        "pvalorH0=sss.norm.cdf(15.2,18,desvioX/np.sqrt(nn))\n",
        "pvalorHa=1-sss.norm.cdf(15.2,13,desvioX/np.sqrt(nn))\n",
        "print(pvalorH0,pvalorHa)"
      ],
      "metadata": {
        "colab": {
          "base_uri": "https://localhost:8080/"
        },
        "id": "3U5v1gdArGKN",
        "outputId": "79d0f379-4961-415a-86ee-34daf9256e73"
      },
      "execution_count": null,
      "outputs": [
        {
          "output_type": "stream",
          "name": "stdout",
          "text": [
            "0.02385744011867555 0.05989746521295913\n"
          ]
        }
      ]
    },
    {
      "cell_type": "code",
      "source": [
        "## caso bilateral (Ha é que mu é distinto de 18)\n",
        "pvalorbil=sss.norm.cdf(15.2,18,desvioX/np.sqrt(nn))+1-sss.norm.cdf(20.8,18,desvioX/np.sqrt(nn))\n",
        "print(pvalorbil)"
      ],
      "metadata": {
        "colab": {
          "base_uri": "https://localhost:8080/"
        },
        "id": "3LBjdBJTG8rD",
        "outputId": "b0682ec6-6858-44de-9d8b-a0b30474c252"
      },
      "execution_count": null,
      "outputs": [
        {
          "output_type": "stream",
          "name": "stdout",
          "text": [
            "0.04771488023735104\n"
          ]
        }
      ]
    },
    {
      "cell_type": "code",
      "source": [
        "## peso medio de 50 passageiros é 200,\n",
        "## queremos testar a hipótese de que o peso médio populacional é 195, com variancia de 100\n",
        "## isto é um \"z-test\"\n",
        "## unilateral: testar se aumentou\n",
        "pvalornormal=1-sss.norm.cdf(200,195,np.sqrt(100/50))\n",
        "print(pvalornormal)\n",
        "#bilateral\n",
        "pvalornormalbil=1-sss.norm.cdf(200,195,np.sqrt(100/50))+sss.norm.cdf(190,195,np.sqrt(100/50))\n",
        "print(pvalornormalbil)"
      ],
      "metadata": {
        "colab": {
          "base_uri": "https://localhost:8080/"
        },
        "id": "Q5HZH5feldpk",
        "outputId": "eb68570a-e618-43fe-87ee-d2b0660ed2b7"
      },
      "execution_count": null,
      "outputs": [
        {
          "output_type": "stream",
          "name": "stdout",
          "text": [
            "0.00020347600872250293\n",
            "0.00040695201744498234\n"
          ]
        }
      ]
    },
    {
      "cell_type": "markdown",
      "source": [
        "Proporção do rebanho com verminose."
      ],
      "metadata": {
        "id": "v-9o1HsVwe3l"
      }
    },
    {
      "cell_type": "code",
      "source": [
        "## p-valor\n",
        "## isto aquií é um teste binomial\n",
        "theta=0.1\n",
        "n=100\n",
        "vobs=8\n",
        "pvalue=sss.binom.cdf(vobs,n,theta)\n",
        "print(pvalue)"
      ],
      "metadata": {
        "colab": {
          "base_uri": "https://localhost:8080/"
        },
        "id": "NaH8QriLwvym",
        "outputId": "6f3f9e62-928f-4bdf-f8b3-82f042161c10"
      },
      "execution_count": null,
      "outputs": [
        {
          "output_type": "stream",
          "name": "stdout",
          "text": [
            "0.3208738883628403\n"
          ]
        }
      ]
    },
    {
      "cell_type": "code",
      "source": [
        "## podemos usar a função que realiza o test, obtendo o mesmo resultado\n",
        "sss.binomtest(vobs,n,p=theta,alternative='less')"
      ],
      "metadata": {
        "colab": {
          "base_uri": "https://localhost:8080/"
        },
        "id": "4WKUnhzUyJMO",
        "outputId": "9285b35e-8791-415e-a4cf-6d5f6f7a7251"
      },
      "execution_count": null,
      "outputs": [
        {
          "output_type": "execute_result",
          "data": {
            "text/plain": [
              "BinomTestResult(k=8, n=100, alternative='less', proportion_estimate=0.08, pvalue=0.3208738883628403)"
            ]
          },
          "metadata": {},
          "execution_count": 10
        }
      ]
    },
    {
      "cell_type": "markdown",
      "source": [
        "Aproximando por normal"
      ],
      "metadata": {
        "id": "3NW8NTUs3lpS"
      }
    },
    {
      "cell_type": "code",
      "source": [
        "pvalue2=sss.norm.cdf(vobs,theta*n,np.sqrt(theta*(1-theta)*n))\n",
        "print(pvalue2)\n",
        "print((vobs/n-theta)/np.sqrt(theta*(1-theta)/n))"
      ],
      "metadata": {
        "colab": {
          "base_uri": "https://localhost:8080/"
        },
        "id": "VeI7pybKBgXL",
        "outputId": "b063e49b-c68e-4cb1-d762-5b27db7974f4"
      },
      "execution_count": null,
      "outputs": [
        {
          "output_type": "stream",
          "name": "stdout",
          "text": [
            "0.25249253754692297\n",
            "-0.6666666666666667\n"
          ]
        }
      ]
    },
    {
      "cell_type": "markdown",
      "source": [
        "Pontos de um exame de inglês"
      ],
      "metadata": {
        "id": "3D00KEvS1bGo"
      }
    },
    {
      "cell_type": "code",
      "source": [
        "## p-valor a partir de teste de média com variância desconhecida\n",
        "df=np.array([65, 74, 78, 86, 59,84, 75, 72, 81, 83])\n",
        "print(sss.describe(df))\n",
        "theta=80\n",
        "nn=len(df)\n",
        "print(nn)\n",
        "thetaobs=df.mean()\n",
        "print(thetaobs)\n",
        "estimvar=np.var(df,ddof=1)\n",
        "print(estimvar)\n",
        "## corresponde fazer um t-test porque a variância da população é desconhecida e deve ser estimada a partir da amostra\n",
        "tobs=(thetaobs-theta)/(np.sqrt(estimvar/nn))\n",
        "## tobs tem distribuiçao t com n-1 graus de liberdade\n",
        "print(tobs)\n",
        "pvaluet1=sss.t.cdf(tobs,nn-1)\n",
        "print(pvaluet1)\n",
        "plt.hist(df,5)\n",
        "plt.show()\n"
      ],
      "metadata": {
        "colab": {
          "base_uri": "https://localhost:8080/",
          "height": 369
        },
        "id": "Wf79T3d11uRJ",
        "outputId": "7a6fa23b-5dcd-4f50-a705-7c0567da1dd7"
      },
      "execution_count": null,
      "outputs": [
        {
          "output_type": "stream",
          "name": "stdout",
          "text": [
            "DescribeResult(nobs=10, minmax=(59, 86), mean=75.7, variance=74.67777777777778, skewness=-0.6758342069252118, kurtosis=-0.5484422474612001)\n",
            "10\n",
            "75.7\n",
            "74.67777777777778\n",
            "-1.5735217944702773\n",
            "0.07502463015017978\n"
          ]
        },
        {
          "output_type": "display_data",
          "data": {
            "text/plain": [
              "<Figure size 432x288 with 1 Axes>"
            ],
            "image/png": "[encoded data removed]"
          },
          "metadata": {
            "needs_background": "light"
          }
        }
      ]
    },
    {
      "cell_type": "code",
      "source": [
        "## o anterior está implementado na função ttest_1samp (ver que o p-valor é igual)\n",
        "sss.ttest_1samp(df,popmean=80,alternative='less')"
      ],
      "metadata": {
        "colab": {
          "base_uri": "https://localhost:8080/"
        },
        "id": "x9RRceTzJCHI",
        "outputId": "4f916dd6-695b-44a3-d03e-9599db8e36cf"
      },
      "execution_count": null,
      "outputs": [
        {
          "output_type": "execute_result",
          "data": {
            "text/plain": [
              "Ttest_1sampResult(statistic=-1.5735217944702773, pvalue=0.07502463015017978)"
            ]
          },
          "metadata": {},
          "execution_count": 13
        }
      ]
    },
    {
      "cell_type": "code",
      "source": [
        "pvalue3=sss.norm.cdf(tobs,0,1) ##aproximando pela normal (o p-value obtido é diferente, só se a amostra e bem grande coincidem)\n",
        "print(pvalue3)\n",
        "pvalue4=sss.norm.cdf(thetaobs,theta,np.sqrt(estimvar/nn))\n",
        "print(pvalue4)\n",
        "pvalue5=sss.norm.cdf(df.mean(),theta,np.std(df,ddof=1)/np.sqrt(nn))\n",
        "print(pvalue5)"
      ],
      "metadata": {
        "colab": {
          "base_uri": "https://localhost:8080/"
        },
        "id": "0Z6Jw7JUjktE",
        "outputId": "5c591cf8-b909-4fae-f6bc-d021847e10b0"
      },
      "execution_count": null,
      "outputs": [
        {
          "output_type": "stream",
          "name": "stdout",
          "text": [
            "0.057799022922622775\n",
            "0.057799022922622775\n",
            "0.057799022922622775\n"
          ]
        }
      ]
    },
    {
      "cell_type": "code",
      "source": [],
      "metadata": {
        "id": "DIkgYcb33NQY"
      },
      "execution_count": null,
      "outputs": []
    },
    {
      "cell_type": "markdown",
      "source": [
        "Podemos gerar valores com distribuição normal de media 80 e ver se a média é mais extrema que 75.7 (nesse caso mais extrema significa MENOR, já que a hipótese sendo testada é que \"a média valia 80 e diminuiu\")"
      ],
      "metadata": {
        "id": "fo1Y3v9c2ygF"
      }
    },
    {
      "cell_type": "code",
      "source": [
        "dfsintetico=np.random.normal(80,np.sqrt(75),10) ##precisamos dizer a variancia dos dados sinteticos\n",
        "print(dfsintetico)\n",
        "print(sss.describe(dfsintetico))\n",
        "## a média deveria ser menor que 75.7 um 7.5% das vezes (vai depender da variancia)\n",
        "## podemos ver o histograma do dado sintetico para comparar com o do dado real (e verificar normalidade)\n",
        "plt.hist(dfsintetico,5)"
      ],
      "metadata": {
        "colab": {
          "base_uri": "https://localhost:8080/",
          "height": 407
        },
        "id": "M6-7xqii2921",
        "outputId": "77f55e85-f9c1-449f-930d-c6038b6c7128"
      },
      "execution_count": null,
      "outputs": [
        {
          "output_type": "stream",
          "name": "stdout",
          "text": [
            "[ 85.52087141  87.23230513  77.7987692   77.13365375  93.4492042\n",
            "  89.01893098 101.46188042  81.7104567   76.91068266  87.86376527]\n",
            "DescribeResult(nobs=10, minmax=(76.91068266471007, 101.46188042378999), mean=85.81005197266265, variance=61.71371624106929, skewness=0.5758542223758452, kurtosis=-0.41034515309769537)\n"
          ]
        },
        {
          "output_type": "execute_result",
          "data": {
            "text/plain": [
              "(array([4., 1., 3., 1., 1.]),\n",
              " array([ 76.91068266,  81.82092222,  86.73116177,  91.64140132,\n",
              "         96.55164087, 101.46188042]),\n",
              " <a list of 5 Patch objects>)"
            ]
          },
          "metadata": {},
          "execution_count": 22
        },
        {
          "output_type": "display_data",
          "data": {
            "text/plain": [
              "<Figure size 432x288 with 1 Axes>"
            ],
            "image/png": "[encoded data removed]"
          },
          "metadata": {
            "needs_background": "light"
          }
        }
      ]
    },
    {
      "cell_type": "code",
      "source": [
        "cont=0\n",
        "for kk in range(100000):\n",
        "  dfsintetico=np.random.normal(80,np.sqrt(90),10) ##precisamos dizer a variancia dos dados sinteticos\n",
        "                    ## quanto meor a variancia especificada, menor a probabilidade da meia < 75.7\n",
        "  if dfsintetico.mean() < 75.7:\n",
        "    cont=cont+1\n",
        "\n",
        "print(cont,kk,cont/(kk+1))"
      ],
      "metadata": {
        "colab": {
          "base_uri": "https://localhost:8080/"
        },
        "id": "Kr6GhwYi5DN3",
        "outputId": "9eb42ecb-f496-4002-c6f7-a70b06daa83d"
      },
      "execution_count": null,
      "outputs": [
        {
          "output_type": "stream",
          "name": "stdout",
          "text": [
            "7608 99999 0.07608\n"
          ]
        }
      ]
    },
    {
      "cell_type": "markdown",
      "source": [
        "Médias de 50 clientes foram 62 e 71 (gasto em compras). O desvio padrão é 20 unidades. H0: médias iguais"
      ],
      "metadata": {
        "id": "jnJcsOiI6z5c"
      }
    },
    {
      "cell_type": "code",
      "source": [
        "z=(62-71)/(20*np.sqrt(2/50))\n",
        "print(z)\n",
        "pvaluez=sss.norm.cdf(z)*2\n",
        "print(pvaluez)"
      ],
      "metadata": {
        "colab": {
          "base_uri": "https://localhost:8080/"
        },
        "id": "NhMoRNqq7Ho-",
        "outputId": "8d0f6664-86f7-459a-a6a4-060fc46c7152"
      },
      "execution_count": null,
      "outputs": [
        {
          "output_type": "stream",
          "name": "stdout",
          "text": [
            "-2.25\n",
            "0.02444894531008939\n"
          ]
        }
      ]
    },
    {
      "cell_type": "code",
      "source": [
        "## verificando por simulaçao\n",
        "cont=0\n",
        "for kk in range(100000):\n",
        "  dfsintetico1=np.random.normal(0,20,50) ##colocamos media zero em ambos\n",
        "  dfsintetico2=np.random.normal(0,20,50)\n",
        "  if abs(dfsintetico1.mean()-dfsintetico2.mean()) > abs(62-71):\n",
        "    cont=cont+1\n",
        "\n",
        "print(cont,kk,cont/(kk+1))"
      ],
      "metadata": {
        "colab": {
          "base_uri": "https://localhost:8080/"
        },
        "id": "L1R7QAnG7ekV",
        "outputId": "8c8e27ba-1ee0-440c-c48b-594bec11c93b"
      },
      "execution_count": null,
      "outputs": [
        {
          "output_type": "stream",
          "name": "stdout",
          "text": [
            "2484 99999 0.02484\n"
          ]
        }
      ]
    },
    {
      "cell_type": "markdown",
      "source": [
        "Tipo X e tipo Y de concreto"
      ],
      "metadata": {
        "id": "Eslqeu1y88az"
      }
    },
    {
      "cell_type": "code",
      "source": [
        "dfx=np.array([54, 55, 58, 50, 61])\n",
        "print(dfx.mean(),np.std(dfx,ddof=1))\n",
        "dfy=np.array([51, 54, 55, 52, 53])\n",
        "print(dfy.mean(),np.std(dfy,ddof=1))\n",
        "## teste de comparação de médias com duas amostras (não assumimos que as variâncias sejam iguais)\n",
        "sss.ttest_ind(dfx,dfy,alternative='greater',equal_var=False)"
      ],
      "metadata": {
        "colab": {
          "base_uri": "https://localhost:8080/"
        },
        "id": "-6qrHmA48_4i",
        "outputId": "76464d8b-d068-47f1-dd48-04194ca1a4c5"
      },
      "execution_count": null,
      "outputs": [
        {
          "output_type": "stream",
          "name": "stdout",
          "text": [
            "55.6 4.159326868617084\n",
            "53.0 1.5811388300841898\n"
          ]
        },
        {
          "output_type": "execute_result",
          "data": {
            "text/plain": [
              "Ttest_indResult(statistic=1.3065491598369765, pvalue=0.1234239912084517)"
            ]
          },
          "metadata": {},
          "execution_count": 19
        }
      ]
    },
    {
      "cell_type": "code",
      "source": [
        "sss.ttest_ind(dfx,dfy,alternative='greater',equal_var=True)\n"
      ],
      "metadata": {
        "colab": {
          "base_uri": "https://localhost:8080/"
        },
        "id": "JVaNWDseBjV0",
        "outputId": "1216cb7e-01f0-4cb4-8e57-dd87d4f62fbb"
      },
      "execution_count": null,
      "outputs": [
        {
          "output_type": "execute_result",
          "data": {
            "text/plain": [
              "Ttest_indResult(statistic=1.3065491598369765, pvalue=0.11383696170651378)"
            ]
          },
          "metadata": {},
          "execution_count": 20
        }
      ]
    }
  ]
}