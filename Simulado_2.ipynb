{
  "nbformat": 4,
  "nbformat_minor": 0,
  "metadata": {
    "colab": {
      "provenance": [],
      "collapsed_sections": [
        "t3bjsShnZEx1",
        "3CCpkNYSZk7O",
        "K46Hi4eXcfJh",
        "8YAY0ZmdcRdd",
        "Y3muRJmodCJa",
        "pmM47O-3dXji"
      ],
      "include_colab_link": true
    },
    "kernelspec": {
      "name": "python3",
      "display_name": "Python 3"
    },
    "language_info": {
      "name": "python"
    }
  },
  "cells": [
    {
      "cell_type": "markdown",
      "metadata": {
        "id": "view-in-github",
        "colab_type": "text"
      },
      "source": [
        "<a href=\"https://colab.research.google.com/github/emanuel379/Estatistica-I/blob/main/Simulado_2.ipynb\" target=\"_parent\"><img src=\"https://colab.research.google.com/assets/colab-badge.svg\" alt=\"Open In Colab\"/></a>"
      ]
    },
    {
      "cell_type": "markdown",
      "source": [
        "Documentação: https://docs.scipy.org/doc/scipy/tutorial/stats/discrete.html"
      ],
      "metadata": {
        "id": "vPfWk3p4oxkG"
      }
    },
    {
      "cell_type": "code",
      "execution_count": null,
      "metadata": {
        "id": "K_kXiaVO2GLI"
      },
      "outputs": [],
      "source": [
        "import scipy.stats\n",
        "import numpy as np"
      ]
    },
    {
      "cell_type": "markdown",
      "source": [
        "## Exercício 01"
      ],
      "metadata": {
        "id": "t3bjsShnZEx1"
      }
    },
    {
      "cell_type": "code",
      "source": [
        "print(scipy.stats.hypergeom.pmf(1,195,9,5) * scipy.stats.hypergeom.pmf(1,200,10,5))"
      ],
      "metadata": {
        "colab": {
          "base_uri": "https://localhost:8080/"
        },
        "id": "uNVgzJSGZG_C",
        "outputId": "92ecd898-eeac-4635-ea17-f89b6544f7db"
      },
      "execution_count": null,
      "outputs": [
        {
          "output_type": "stream",
          "name": "stdout",
          "text": [
            "0.040397283143612565\n"
          ]
        }
      ]
    },
    {
      "cell_type": "markdown",
      "source": [
        "## Exercício 02"
      ],
      "metadata": {
        "id": "3CCpkNYSZk7O"
      }
    },
    {
      "cell_type": "markdown",
      "source": [
        "Calculando a distribuição do número de caras:"
      ],
      "metadata": {
        "id": "-jbyQK8AZsRw"
      }
    },
    {
      "cell_type": "code",
      "source": [
        "print(scipy.stats.binom.pmf(range(0,5),4,3/8))"
      ],
      "metadata": {
        "colab": {
          "base_uri": "https://localhost:8080/"
        },
        "id": "cyJCsrvg86A-",
        "outputId": "70815378-6d17-4e41-c07c-74720dde0154"
      },
      "execution_count": null,
      "outputs": [
        {
          "output_type": "stream",
          "name": "stdout",
          "text": [
            "[0.15258789 0.36621094 0.32958984 0.13183594 0.01977539]\n"
          ]
        }
      ]
    },
    {
      "cell_type": "code",
      "source": [
        "(3/8)**4"
      ],
      "metadata": {
        "colab": {
          "base_uri": "https://localhost:8080/"
        },
        "id": "ny_wFsLV9NM_",
        "outputId": "6b193d44-aa13-4915-e363-838d357a3c3f"
      },
      "execution_count": null,
      "outputs": [
        {
          "output_type": "execute_result",
          "data": {
            "text/plain": [
              "0.019775390625"
            ]
          },
          "metadata": {},
          "execution_count": 7
        }
      ]
    },
    {
      "cell_type": "code",
      "source": [
        "Px = scipy.stats.binom.pmf(range(0,5),4,3/8)"
      ],
      "metadata": {
        "id": "zPcQu7PB9lDf"
      },
      "execution_count": null,
      "outputs": []
    },
    {
      "cell_type": "markdown",
      "source": [
        "Obtendo a distribuição de $W$:"
      ],
      "metadata": {
        "id": "fqLepYMqZ3fN"
      }
    },
    {
      "cell_type": "code",
      "source": [
        "Pw = [Px[0] + Px[4],Px[1] + Px[3],Px[2]]\n",
        "print(Pw)"
      ],
      "metadata": {
        "colab": {
          "base_uri": "https://localhost:8080/"
        },
        "id": "byVM0YTc9m9-",
        "outputId": "31ae297b-bd22-441d-f341-514e873b0d0c"
      },
      "execution_count": null,
      "outputs": [
        {
          "output_type": "stream",
          "name": "stdout",
          "text": [
            "[0.17236328125, 0.4980468750000001, 0.32958984375]\n"
          ]
        }
      ]
    },
    {
      "cell_type": "markdown",
      "source": [
        "Calculando $E[W]$:"
      ],
      "metadata": {
        "id": "dm89ysivZ_6p"
      }
    },
    {
      "cell_type": "code",
      "source": [
        "ew = 0*Pw[0] + 3*Pw[1] + 4*Pw[2]\n",
        "print(ew)"
      ],
      "metadata": {
        "colab": {
          "base_uri": "https://localhost:8080/"
        },
        "id": "ra56UhHY-ez3",
        "outputId": "7b1182f0-4227-4795-d9f6-359a1edd2dec"
      },
      "execution_count": null,
      "outputs": [
        {
          "output_type": "stream",
          "name": "stdout",
          "text": [
            "2.8125000000000004\n"
          ]
        }
      ]
    },
    {
      "cell_type": "markdown",
      "source": [
        "Calculando $Var[W]$ usando $E[W^2] - (E[W])^2$:"
      ],
      "metadata": {
        "id": "oGR_ugFBaEbQ"
      }
    },
    {
      "cell_type": "code",
      "source": [
        "ew2 = 0*Pw[0] + 9*Pw[1] + 16*Pw[2]"
      ],
      "metadata": {
        "id": "ETar1bzc-wUG"
      },
      "execution_count": null,
      "outputs": []
    },
    {
      "cell_type": "code",
      "source": [
        "varw = ew2 - ew**2\n",
        "print(varw)"
      ],
      "metadata": {
        "colab": {
          "base_uri": "https://localhost:8080/"
        },
        "id": "21u5yPjF-3uG",
        "outputId": "faf6a41c-70ac-4927-ebbc-b2305b31c8c3"
      },
      "execution_count": null,
      "outputs": [
        {
          "output_type": "stream",
          "name": "stdout",
          "text": [
            "1.8457031249999973\n"
          ]
        }
      ]
    },
    {
      "cell_type": "markdown",
      "source": [
        "Calculando $Var[W]$ usando $E[(W - E[W])^2]$:"
      ],
      "metadata": {
        "id": "2Lic9OgRaV7q"
      }
    },
    {
      "cell_type": "code",
      "source": [
        "varbis = (0-ew)**2*Pw[0] + (3-ew)**2*Pw[1] + (4-ew)**2*Pw[2]\n",
        "print(varbis)"
      ],
      "metadata": {
        "colab": {
          "base_uri": "https://localhost:8080/"
        },
        "id": "x5DGZj2Y-_Rv",
        "outputId": "3baf50d5-90e8-41eb-8e3a-08d7ab57769c"
      },
      "execution_count": null,
      "outputs": [
        {
          "output_type": "stream",
          "name": "stdout",
          "text": [
            "1.845703125\n"
          ]
        }
      ]
    },
    {
      "cell_type": "markdown",
      "source": [
        "## Exercício 03"
      ],
      "metadata": {
        "id": "K46Hi4eXcfJh"
      }
    },
    {
      "cell_type": "markdown",
      "source": [
        "Alguns valores de uma Poisson com $λ = 10$:"
      ],
      "metadata": {
        "id": "c3xoqM-aakde"
      }
    },
    {
      "cell_type": "code",
      "source": [
        "print(scipy.stats.poisson.pmf(range(0,20),10))"
      ],
      "metadata": {
        "colab": {
          "base_uri": "https://localhost:8080/"
        },
        "id": "uJgNli9yCMT-",
        "outputId": "791a55ef-40c4-46dc-c04b-df4fa325cb0e"
      },
      "execution_count": null,
      "outputs": [
        {
          "output_type": "stream",
          "name": "stdout",
          "text": [
            "[4.53999298e-05 4.53999298e-04 2.26999649e-03 7.56665496e-03\n",
            " 1.89166374e-02 3.78332748e-02 6.30554580e-02 9.00792257e-02\n",
            " 1.12599032e-01 1.25110036e-01 1.25110036e-01 1.13736396e-01\n",
            " 9.47803301e-02 7.29079462e-02 5.20771044e-02 3.47180696e-02\n",
            " 2.16987935e-02 1.27639962e-02 7.09110899e-03 3.73216263e-03]\n"
          ]
        }
      ]
    },
    {
      "cell_type": "markdown",
      "source": [
        "Alguns valores de da distribuição $W$:"
      ],
      "metadata": {
        "id": "oiA-hs_2a-8C"
      }
    },
    {
      "cell_type": "code",
      "source": [
        "Pw = scipy.stats.poisson.pmf(range(0,50),12.5)\n",
        "print(Pw)"
      ],
      "metadata": {
        "colab": {
          "base_uri": "https://localhost:8080/"
        },
        "id": "k1QWuRsIDmxX",
        "outputId": "069b3e98-0373-4912-fa95-b14cc273dcf3"
      },
      "execution_count": null,
      "outputs": [
        {
          "output_type": "stream",
          "name": "stdout",
          "text": [
            "[3.72665317e-06 4.65831647e-05 2.91144779e-04 1.21310325e-03\n",
            " 3.79094764e-03 9.47736911e-03 1.97445190e-02 3.52580696e-02\n",
            " 5.50907338e-02 7.65149080e-02 9.56436350e-02 1.08685949e-01\n",
            " 1.13214530e-01 1.08860125e-01 9.71965402e-02 8.09971169e-02\n",
            " 6.32789975e-02 4.65286747e-02 3.23115796e-02 2.12576182e-02\n",
            " 1.32860114e-02 7.90834010e-03 4.49337505e-03 2.44205166e-03\n",
            " 1.27190191e-03 6.35950953e-04 3.05745651e-04 1.41548912e-04\n",
            " 6.31914787e-05 2.72377063e-05 1.13490443e-05 4.57622754e-06\n",
            " 1.78758888e-06 6.77117002e-07 2.48940074e-07 8.89071693e-08\n",
            " 3.08705449e-08 1.04292381e-08 3.43067044e-09 1.09957386e-09\n",
            " 3.43616831e-10 1.04761229e-10 3.11789372e-11 9.06364454e-12\n",
            " 2.57489902e-12 7.15249727e-13 1.94361339e-13 5.16918454e-14\n",
            " 1.34614181e-14 3.43403522e-15]\n"
          ]
        }
      ]
    },
    {
      "cell_type": "markdown",
      "source": [
        "Uma intuição de que realmente $E[W] = λ_W$:"
      ],
      "metadata": {
        "id": "B9Rnomigbb8T"
      }
    },
    {
      "cell_type": "code",
      "source": [
        "ew = 0\n",
        "for w in range(0,50):\n",
        "    ew += w * Pw[w]\n",
        "print(ew)"
      ],
      "metadata": {
        "colab": {
          "base_uri": "https://localhost:8080/"
        },
        "id": "PNd7ArDZEfqe",
        "outputId": "882c7ec1-979b-45bb-d55e-9c8fe8010ab9"
      },
      "execution_count": null,
      "outputs": [
        {
          "output_type": "stream",
          "name": "stdout",
          "text": [
            "12.499999999999972\n"
          ]
        }
      ]
    },
    {
      "cell_type": "markdown",
      "source": [
        "Uma intuição de que realmente $Var[W] = λ_W$:"
      ],
      "metadata": {
        "id": "3yZ-OSqRbpQB"
      }
    },
    {
      "cell_type": "code",
      "source": [
        "varw = 0\n",
        "for w in range(0,50):\n",
        "    varw += (w - ew)**2 * Pw[w]\n",
        "print(varw)"
      ],
      "metadata": {
        "colab": {
          "base_uri": "https://localhost:8080/"
        },
        "id": "MEq0Lp0wExJa",
        "outputId": "0a88389a-4989-4210-c635-1efd72bbac84"
      },
      "execution_count": null,
      "outputs": [
        {
          "output_type": "stream",
          "name": "stdout",
          "text": [
            "12.499999999998394\n"
          ]
        }
      ]
    },
    {
      "cell_type": "markdown",
      "source": [
        "Dsitribuição acumulada de $W$:"
      ],
      "metadata": {
        "id": "LKyzZtDjbuAs"
      }
    },
    {
      "cell_type": "code",
      "source": [
        "print(scipy.stats.poisson.cdf(range(0,50),12.5))"
      ],
      "metadata": {
        "colab": {
          "base_uri": "https://localhost:8080/"
        },
        "id": "EltpMlF3FBC1",
        "outputId": "68e16ea1-bc1c-44c8-ab8b-9645859c86f6"
      },
      "execution_count": null,
      "outputs": [
        {
          "output_type": "stream",
          "name": "stdout",
          "text": [
            "[3.72665317e-06 5.03098178e-05 3.41454597e-04 1.55455784e-03\n",
            " 5.34550549e-03 1.48228746e-02 3.45673936e-02 6.98254632e-02\n",
            " 1.24916197e-01 2.01431105e-01 2.97074740e-01 4.05760689e-01\n",
            " 5.18975219e-01 6.27835344e-01 7.25031884e-01 8.06029001e-01\n",
            " 8.69307999e-01 9.15836673e-01 9.48148253e-01 9.69405871e-01\n",
            " 9.82691882e-01 9.90600223e-01 9.95093598e-01 9.97535649e-01\n",
            " 9.98807551e-01 9.99443502e-01 9.99749248e-01 9.99890797e-01\n",
            " 9.99953988e-01 9.99981226e-01 9.99992575e-01 9.99997151e-01\n",
            " 9.99998939e-01 9.99999616e-01 9.99999865e-01 9.99999954e-01\n",
            " 9.99999985e-01 9.99999995e-01 9.99999998e-01 1.00000000e+00\n",
            " 1.00000000e+00 1.00000000e+00 1.00000000e+00 1.00000000e+00\n",
            " 1.00000000e+00 1.00000000e+00 1.00000000e+00 1.00000000e+00\n",
            " 1.00000000e+00 1.00000000e+00]\n"
          ]
        }
      ]
    },
    {
      "cell_type": "markdown",
      "source": [
        "Acima é preciso encontrar o primeiro valor maior do que $0,5$ para saber a mediana. Abaixo a mediana sai mais rápido:"
      ],
      "metadata": {
        "id": "kJO5e6IGb0ni"
      }
    },
    {
      "cell_type": "code",
      "source": [
        "scipy.stats.poisson.ppf(0.5,12.5)"
      ],
      "metadata": {
        "colab": {
          "base_uri": "https://localhost:8080/"
        },
        "id": "Kbw2yLbCF-pW",
        "outputId": "a0e99b2c-d96f-41d7-97a1-021629247d9e"
      },
      "execution_count": null,
      "outputs": [
        {
          "output_type": "execute_result",
          "data": {
            "text/plain": [
              "12.0"
            ]
          },
          "metadata": {},
          "execution_count": 19
        }
      ]
    },
    {
      "cell_type": "markdown",
      "source": [
        "## Exercício 04"
      ],
      "metadata": {
        "id": "8YAY0ZmdcRdd"
      }
    },
    {
      "cell_type": "code",
      "source": [
        "print(scipy.stats.poisson.pmf(0,1.4) * scipy.stats.poisson.pmf(0,1.12))"
      ],
      "metadata": {
        "colab": {
          "base_uri": "https://localhost:8080/"
        },
        "id": "lVMjYJwGHjGm",
        "outputId": "2504aecf-ca35-4bc6-9c58-c7fccdf52e57"
      },
      "execution_count": null,
      "outputs": [
        {
          "output_type": "stream",
          "name": "stdout",
          "text": [
            "0.08045960674953244\n"
          ]
        }
      ]
    },
    {
      "cell_type": "code",
      "source": [
        "print(np.exp(-2.52))"
      ],
      "metadata": {
        "colab": {
          "base_uri": "https://localhost:8080/"
        },
        "id": "qUzDG8hYHw_l",
        "outputId": "b0c38fbd-b4cf-423a-f420-61156ba32c74"
      },
      "execution_count": null,
      "outputs": [
        {
          "output_type": "stream",
          "name": "stdout",
          "text": [
            "0.08045960674953244\n"
          ]
        }
      ]
    },
    {
      "cell_type": "code",
      "source": [
        "print(scipy.stats.poisson.pmf(2,1.4) * scipy.stats.poisson.pmf(1,1.12))"
      ],
      "metadata": {
        "colab": {
          "base_uri": "https://localhost:8080/"
        },
        "id": "AEgw4bH1H5sG",
        "outputId": "b12a586e-68f4-4c5b-e036-96bb8c1e8fad"
      },
      "execution_count": null,
      "outputs": [
        {
          "output_type": "stream",
          "name": "stdout",
          "text": [
            "0.0883124643682868\n"
          ]
        }
      ]
    },
    {
      "cell_type": "markdown",
      "source": [
        "### Turma 01:"
      ],
      "metadata": {
        "id": "Y3muRJmodCJa"
      }
    },
    {
      "cell_type": "markdown",
      "source": [
        "Vendo os primeiros valores da somatória:"
      ],
      "metadata": {
        "id": "ZFpGbnILdFQM"
      }
    },
    {
      "cell_type": "code",
      "source": [
        "print((1 - scipy.stats.poisson.cdf(0,1.4)) * scipy.stats.poisson.pmf(0,1.12))"
      ],
      "metadata": {
        "colab": {
          "base_uri": "https://localhost:8080/"
        },
        "id": "Z_hxkZFVKh_N",
        "outputId": "cd9283b0-6fdc-4633-f97e-b12fd334b46a"
      },
      "execution_count": null,
      "outputs": [
        {
          "output_type": "stream",
          "name": "stdout",
          "text": [
            "0.24582018787350704\n"
          ]
        }
      ]
    },
    {
      "cell_type": "code",
      "source": [
        "print((1 - scipy.stats.poisson.cdf(1,1.4)) * scipy.stats.poisson.pmf(1,1.12))"
      ],
      "metadata": {
        "colab": {
          "base_uri": "https://localhost:8080/"
        },
        "id": "yrnX1T-JK7V1",
        "outputId": "4775bbd3-a093-4847-ee13-3797db1456b4"
      },
      "execution_count": null,
      "outputs": [
        {
          "output_type": "stream",
          "name": "stdout",
          "text": [
            "0.14915794703506097\n"
          ]
        }
      ]
    },
    {
      "cell_type": "code",
      "source": [
        "print((1 - scipy.stats.poisson.cdf(2,1.4)) * scipy.stats.poisson.pmf(2,1.12))"
      ],
      "metadata": {
        "colab": {
          "base_uri": "https://localhost:8080/"
        },
        "id": "i_msh8DeK_PG",
        "outputId": "15cfdf78-ab4e-4d51-9b74-30ca3faa46d5"
      },
      "execution_count": null,
      "outputs": [
        {
          "output_type": "stream",
          "name": "stdout",
          "text": [
            "0.03407347029339359\n"
          ]
        }
      ]
    },
    {
      "cell_type": "code",
      "source": [
        "print((1 - scipy.stats.poisson.cdf(3,1.4)) * scipy.stats.poisson.pmf(3,1.12))"
      ],
      "metadata": {
        "colab": {
          "base_uri": "https://localhost:8080/"
        },
        "id": "vkQKGul9LDIf",
        "outputId": "13575780-0b7d-4881-bd67-db5685f0205b"
      },
      "execution_count": null,
      "outputs": [
        {
          "output_type": "stream",
          "name": "stdout",
          "text": [
            "0.004104605719255237\n"
          ]
        }
      ]
    },
    {
      "cell_type": "markdown",
      "source": [
        "Fazendo aproximação da somatória:"
      ],
      "metadata": {
        "id": "vDx1_mLVdSCh"
      }
    },
    {
      "cell_type": "code",
      "source": [
        "soma = 0\n",
        "for w in range(0,50):\n",
        "    soma += (1 - scipy.stats.poisson.cdf(w,1.4)) * scipy.stats.poisson.pmf(w,1.12)\n",
        "print(soma)"
      ],
      "metadata": {
        "colab": {
          "base_uri": "https://localhost:8080/"
        },
        "id": "FDVWh1HdLGaG",
        "outputId": "842c81af-c019-4408-e4e1-5e32d07f7cb4"
      },
      "execution_count": null,
      "outputs": [
        {
          "output_type": "stream",
          "name": "stdout",
          "text": [
            "0.4334770286856959\n"
          ]
        }
      ]
    },
    {
      "cell_type": "markdown",
      "source": [
        "### Turma 02"
      ],
      "metadata": {
        "id": "pmM47O-3dXji"
      }
    },
    {
      "cell_type": "markdown",
      "source": [
        "Vendo os primeiros valores da somatória:"
      ],
      "metadata": {
        "id": "BRj2kUwwdZRQ"
      }
    },
    {
      "cell_type": "code",
      "source": [
        "print(scipy.stats.poisson.cdf(0,1.12) * scipy.stats.poisson.pmf(1,1.4))"
      ],
      "metadata": {
        "colab": {
          "base_uri": "https://localhost:8080/"
        },
        "id": "-BtBVM8PkTfK",
        "outputId": "34627136-184a-4923-c572-5b10e7039529"
      },
      "execution_count": null,
      "outputs": [
        {
          "output_type": "stream",
          "name": "stdout",
          "text": [
            "0.11264344944934539\n"
          ]
        }
      ]
    },
    {
      "cell_type": "code",
      "source": [
        "print(scipy.stats.poisson.cdf(1,1.12) * scipy.stats.poisson.pmf(2,1.4))"
      ],
      "metadata": {
        "colab": {
          "base_uri": "https://localhost:8080/"
        },
        "id": "13hM4TaGkmYD",
        "outputId": "a1c39dd1-0063-43f0-f6ad-dae09a497666"
      },
      "execution_count": null,
      "outputs": [
        {
          "output_type": "stream",
          "name": "stdout",
          "text": [
            "0.16716287898282858\n"
          ]
        }
      ]
    },
    {
      "cell_type": "code",
      "source": [
        "print(scipy.stats.poisson.cdf(2,1.12) * scipy.stats.poisson.pmf(3,1.4))"
      ],
      "metadata": {
        "colab": {
          "base_uri": "https://localhost:8080/"
        },
        "id": "pTuhujPTk3cv",
        "outputId": "4186b806-62cb-458b-a424-cbffdd70c3c1"
      },
      "execution_count": null,
      "outputs": [
        {
          "output_type": "stream",
          "name": "stdout",
          "text": [
            "0.10108833421356564\n"
          ]
        }
      ]
    },
    {
      "cell_type": "markdown",
      "source": [
        "Fazendo aproximação da somatória:"
      ],
      "metadata": {
        "id": "halYX_nQdnT8"
      }
    },
    {
      "cell_type": "code",
      "source": [
        "p = 0\n",
        "for w in range(0,50):\n",
        "    p += scipy.stats.poisson.cdf(w,1.12) * scipy.stats.poisson.pmf(w+1,1.4)\n",
        "print(p)"
      ],
      "metadata": {
        "colab": {
          "base_uri": "https://localhost:8080/"
        },
        "id": "AMslUwi4kPrc",
        "outputId": "a9370301-3866-497e-c520-6b45b125291d"
      },
      "execution_count": null,
      "outputs": [
        {
          "output_type": "stream",
          "name": "stdout",
          "text": [
            "0.43347702868569593\n"
          ]
        }
      ]
    }
  ]
}