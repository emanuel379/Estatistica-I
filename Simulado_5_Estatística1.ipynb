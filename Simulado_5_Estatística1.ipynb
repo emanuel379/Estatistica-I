{
  "cells": [
    {
      "cell_type": "markdown",
      "metadata": {
        "id": "view-in-github",
        "colab_type": "text"
      },
      "source": [
        "<a href=\"https://colab.research.google.com/github/emanuel379/Estatistica-I/blob/main/Simulado_5_Estat%C3%ADstica1.ipynb\" target=\"_parent\"><img src=\"https://colab.research.google.com/assets/colab-badge.svg\" alt=\"Open In Colab\"/></a>"
      ]
    },
    {
      "cell_type": "code",
      "execution_count": null,
      "metadata": {
        "id": "bxVWYT_-u5F9"
      },
      "outputs": [],
      "source": [
        "import pandas as pd\n",
        "import matplotlib.pyplot as plt\n",
        "import seaborn as sns\n",
        "import numpy as np\n",
        "import scipy.stats as ss"
      ]
    },
    {
      "cell_type": "code",
      "execution_count": null,
      "metadata": {
        "colab": {
          "base_uri": "https://localhost:8080/",
          "height": 546
        },
        "id": "Q4BKzdx8uWi9",
        "outputId": "9247ff93-d96d-4c0a-a425-160b5897a9bc"
      },
      "outputs": [
        {
          "output_type": "display_data",
          "data": {
            "text/plain": [
              "<Figure size 432x288 with 1 Axes>"
            ],
            "image/png": "[encoded data removed]"
          },
          "metadata": {
            "needs_background": "light"
          }
        },
        {
          "output_type": "display_data",
          "data": {
            "text/plain": [
              "<Figure size 432x288 with 1 Axes>"
            ],
            "image/png": "[encoded data removed]"
          },
          "metadata": {
            "needs_background": "light"
          }
        }
      ],
      "source": [
        "# 1\n",
        "\n",
        "df = pd.read_csv('Simulado Q1.csv')\n",
        "\n",
        "sns.histplot(data = df, x = \"x\", kde = True)\n",
        "plt.xlabel('X', fontsize=15)\n",
        "plt.ylabel('Frequência Absoluta', fontsize=15)\n",
        "plt.show()\n",
        "\n",
        "sns.boxplot(data = df, x = \"x\")\n",
        "plt.show()\n"
      ]
    },
    {
      "cell_type": "code",
      "execution_count": null,
      "metadata": {
        "id": "Pm_RJ_nFu8dz",
        "colab": {
          "base_uri": "https://localhost:8080/"
        },
        "outputId": "74da9577-9e72-4d1b-986f-74c4c6b89cb7"
      },
      "outputs": [
        {
          "output_type": "execute_result",
          "data": {
            "text/plain": [
              "1.78"
            ]
          },
          "metadata": {},
          "execution_count": 14
        }
      ],
      "source": [
        "# 1.4\n",
        "\n",
        "q1 = np.quantile(df, .25).round(2)\n",
        "q3 = np.quantile(df, .75).round(2)\n",
        "amplitude = q3 - q1\n",
        "amplitude\n",
        "\n"
      ]
    },
    {
      "cell_type": "code",
      "source": [
        "# 1.5\n",
        "\n",
        "df.mean().round(2)"
      ],
      "metadata": {
        "colab": {
          "base_uri": "https://localhost:8080/"
        },
        "id": "9QQMQslHtlCv",
        "outputId": "8f372292-d086-4940-959c-73bd838912f9"
      },
      "execution_count": null,
      "outputs": [
        {
          "output_type": "execute_result",
          "data": {
            "text/plain": [
              "x    1.52\n",
              "dtype: float64"
            ]
          },
          "metadata": {},
          "execution_count": 19
        }
      ]
    },
    {
      "cell_type": "code",
      "source": [
        "# 2\n",
        "\n",
        "l = [14, 4, 8, 10, 15, 15, 11, 18, 6, 14, 8, 11, 10, 14, 12]\n",
        "l = pd.DataFrame(l)"
      ],
      "metadata": {
        "id": "uhWdcxP4vjJG"
      },
      "execution_count": null,
      "outputs": []
    },
    {
      "cell_type": "code",
      "source": [
        "# 2.1\n",
        "\n",
        "mean = l.mean().round(3)\n",
        "mean"
      ],
      "metadata": {
        "colab": {
          "base_uri": "https://localhost:8080/"
        },
        "id": "yGUioPHowA75",
        "outputId": "42fa7228-9c29-4a5e-9fdb-0906f738cf84"
      },
      "execution_count": null,
      "outputs": [
        {
          "output_type": "execute_result",
          "data": {
            "text/plain": [
              "0    11.333\n",
              "dtype: float64"
            ]
          },
          "metadata": {},
          "execution_count": 4
        }
      ]
    },
    {
      "cell_type": "code",
      "source": [
        "# 2.2\n",
        "\n",
        "std = l.std().round(3)\n",
        "std"
      ],
      "metadata": {
        "colab": {
          "base_uri": "https://localhost:8080/"
        },
        "id": "KjcHXZcBwX1d",
        "outputId": "184f010c-c77e-4c9c-bea5-7ee0a6201c11"
      },
      "execution_count": null,
      "outputs": [
        {
          "output_type": "execute_result",
          "data": {
            "text/plain": [
              "0    3.792\n",
              "dtype: float64"
            ]
          },
          "metadata": {},
          "execution_count": 5
        }
      ]
    },
    {
      "cell_type": "code",
      "source": [
        "t = ss.t.interval(0.90, 14)\n",
        "t"
      ],
      "metadata": {
        "colab": {
          "base_uri": "https://localhost:8080/"
        },
        "id": "_9LMwjdMvTX6",
        "outputId": "f1621cc9-007b-4dc9-d6c2-ee7a252ecf7f"
      },
      "execution_count": null,
      "outputs": [
        {
          "output_type": "execute_result",
          "data": {
            "text/plain": [
              "(-1.7613101357748566, 1.7613101357748562)"
            ]
          },
          "metadata": {},
          "execution_count": 16
        }
      ]
    },
    {
      "cell_type": "code",
      "source": [
        "Li = (mean + t[0]*std/np.sqrt(len(l))).round(3)\n",
        "Ls = (mean + t[1]*std/np.sqrt(len(l))).round(3)\n",
        "print(Li, Ls)"
      ],
      "metadata": {
        "colab": {
          "base_uri": "https://localhost:8080/"
        },
        "id": "M9ee8_udNwm1",
        "outputId": "4ba8d42e-2350-47cc-f42d-644f6a823bb2"
      },
      "execution_count": null,
      "outputs": [
        {
          "output_type": "stream",
          "name": "stdout",
          "text": [
            "0    9.609\n",
            "dtype: float64 0    13.057\n",
            "dtype: float64\n"
          ]
        }
      ]
    },
    {
      "cell_type": "code",
      "source": [
        "# 3\n",
        "\n",
        "ss.norm.cdf(-0.2593, 0, 1)"
      ],
      "metadata": {
        "colab": {
          "base_uri": "https://localhost:8080/"
        },
        "id": "3spPXgjxJZQa",
        "outputId": "0339b08c-2525-48fb-d292-cf84c003d50c"
      },
      "execution_count": null,
      "outputs": [
        {
          "output_type": "execute_result",
          "data": {
            "text/plain": [
              "0.39770188970414366"
            ]
          },
          "metadata": {},
          "execution_count": 11
        }
      ]
    },
    {
      "cell_type": "code",
      "source": [
        "# 4\n",
        "\n",
        "t = ss.norm.interval(0.98, 0, 1)\n",
        "t\n"
      ],
      "metadata": {
        "colab": {
          "base_uri": "https://localhost:8080/"
        },
        "id": "IADJh1s4LgB3",
        "outputId": "3e4a5599-c5e3-4443-b8e4-b8dbed188170"
      },
      "execution_count": null,
      "outputs": [
        {
          "output_type": "execute_result",
          "data": {
            "text/plain": [
              "(-2.3263478740408408, 2.3263478740408408)"
            ]
          },
          "metadata": {},
          "execution_count": 21
        }
      ]
    },
    {
      "cell_type": "code",
      "source": [
        "prop = 91/107\n",
        "n = 107\n",
        "Li = (prop + t[0]*np.sqrt(prop*(1-prop))/np.sqrt(n)).round(3)\n",
        "Ls = (prop + t[1]*np.sqrt(prop*(1-prop))/np.sqrt(n)).round(3)\n",
        "print(Li, Ls)"
      ],
      "metadata": {
        "colab": {
          "base_uri": "https://localhost:8080/"
        },
        "id": "u3x2Xt2EMYfN",
        "outputId": "97fba142-1bd3-4b92-f2dd-13d10c5f2513"
      },
      "execution_count": null,
      "outputs": [
        {
          "output_type": "stream",
          "name": "stdout",
          "text": [
            "0.77 0.931\n"
          ]
        }
      ]
    },
    {
      "cell_type": "code",
      "source": [
        "# 6\n",
        "\n",
        "n = 22\n",
        "mean = 57812\n",
        "std = 2500\n",
        "\n",
        "t = ss.norm.interval(0.94, 0, 1)\n",
        "\n",
        "Li = (mean + t[0]*std/np.sqrt(n)).round(1)\n",
        "Ls = (mean + t[1]*std/np.sqrt(n)).round(1)\n",
        "print(Li, Ls)"
      ],
      "metadata": {
        "colab": {
          "base_uri": "https://localhost:8080/"
        },
        "id": "XsOX_mWbliap",
        "outputId": "73624741-3c11-4f9f-8bcb-830026c78d76"
      },
      "execution_count": null,
      "outputs": [
        {
          "output_type": "stream",
          "name": "stdout",
          "text": [
            "56809.5 58814.5\n"
          ]
        }
      ]
    },
    {
      "cell_type": "markdown",
      "source": [
        "Prova"
      ],
      "metadata": {
        "id": "TQEjfFsOCIrs"
      }
    },
    {
      "cell_type": "code",
      "source": [
        "#2\n",
        "\n",
        "df = pd.read_csv('P5_Questao2.csv')\n",
        "\n",
        "sns.histplot(data = df, x = \"x\", kde = True)\n",
        "plt.xlabel('X', fontsize=15)\n",
        "plt.ylabel('Frequência Absoluta', fontsize=15)\n",
        "plt.show()\n",
        "\n",
        "sns.boxplot(data = df, x = \"x\")\n",
        "plt.show()\n"
      ],
      "metadata": {
        "colab": {
          "base_uri": "https://localhost:8080/",
          "height": 546
        },
        "id": "XHR29TyGFvtq",
        "outputId": "9303b55c-cf1c-4cdf-ed96-c69508c5c918"
      },
      "execution_count": null,
      "outputs": [
        {
          "output_type": "display_data",
          "data": {
            "text/plain": [
              "<Figure size 432x288 with 1 Axes>"
            ],
            "image/png": "[encoded data removed]"
          },
          "metadata": {
            "needs_background": "light"
          }
        },
        {
          "output_type": "display_data",
          "data": {
            "text/plain": [
              "<Figure size 432x288 with 1 Axes>"
            ],
            "image/png": "[encoded data removed]"
          },
          "metadata": {
            "needs_background": "light"
          }
        }
      ]
    },
    {
      "cell_type": "code",
      "source": [
        "q1 = np.quantile(df, .25).round(2)\n",
        "q3 = np.quantile(df, .75).round(2)\n",
        "q2 = np.quantile(df, .5).round(2)\n",
        "print(q1, q3, q2)"
      ],
      "metadata": {
        "colab": {
          "base_uri": "https://localhost:8080/"
        },
        "id": "ioghqkxMIQI_",
        "outputId": "babe731d-3d00-4328-88cc-9af6dbcb6e10"
      },
      "execution_count": null,
      "outputs": [
        {
          "output_type": "stream",
          "name": "stdout",
          "text": [
            "2.62 3.39 3.3\n"
          ]
        }
      ]
    },
    {
      "cell_type": "code",
      "source": [
        "# 3\n",
        "\n",
        "n = 20\n",
        "mean = 1060\n",
        "std = 25\n",
        "\n",
        "t = ss.norm.interval(0.92, 0, 1)\n",
        "\n",
        "Li = (mean + t[0]*std/np.sqrt(n)).round(2)\n",
        "Ls = (mean + t[1]*std/np.sqrt(n)).round(2)\n",
        "print(Li, Ls)"
      ],
      "metadata": {
        "colab": {
          "base_uri": "https://localhost:8080/"
        },
        "id": "cl049JELJcWH",
        "outputId": "c2cbb3e6-abdb-4ebb-d47c-febc973fbd31"
      },
      "execution_count": null,
      "outputs": [
        {
          "output_type": "stream",
          "name": "stdout",
          "text": [
            "1050.21 1069.79\n"
          ]
        }
      ]
    },
    {
      "cell_type": "code",
      "source": [
        "# 4\n",
        "\n",
        "t = ss.norm.interval(0.92, 0, 1)\n",
        "t\n",
        "\n",
        "prop = 120/250\n",
        "n = 250\n",
        "Li = (prop + t[0]*np.sqrt(prop*(1-prop))/np.sqrt(n)).round(3)\n",
        "Ls = (prop + t[1]*np.sqrt(prop*(1-prop))/np.sqrt(n)).round(3)\n",
        "print(Li, Ls)"
      ],
      "metadata": {
        "colab": {
          "base_uri": "https://localhost:8080/"
        },
        "id": "gcJVmBPzJ0b_",
        "outputId": "35f21dd7-fba8-4a52-a276-8588586af2c5"
      },
      "execution_count": null,
      "outputs": [
        {
          "output_type": "stream",
          "name": "stdout",
          "text": [
            "0.425 0.535\n"
          ]
        }
      ]
    },
    {
      "cell_type": "code",
      "source": [
        "# 5\n",
        "\n",
        "l = [18.7, 16.6, 16.2, 16, 17.7, 16.2, 17.9, 17.4, 15.6]\n",
        "l = pd.DataFrame(l)"
      ],
      "metadata": {
        "id": "teVQVP4eCBJt"
      },
      "execution_count": null,
      "outputs": []
    },
    {
      "cell_type": "code",
      "source": [
        "mean = l.mean().round(3)\n",
        "mean"
      ],
      "metadata": {
        "id": "_fIvUKiEl9A8",
        "colab": {
          "base_uri": "https://localhost:8080/"
        },
        "outputId": "c4369c08-9709-4ab4-b540-c708da4a3f49"
      },
      "execution_count": null,
      "outputs": [
        {
          "output_type": "execute_result",
          "data": {
            "text/plain": [
              "0    16.922\n",
              "dtype: float64"
            ]
          },
          "metadata": {},
          "execution_count": 4
        }
      ]
    },
    {
      "cell_type": "code",
      "source": [
        "std = l.std().round(3)\n",
        "std"
      ],
      "metadata": {
        "colab": {
          "base_uri": "https://localhost:8080/"
        },
        "id": "5XGy9IjRCnDE",
        "outputId": "30dbe3d4-db6b-4cf4-f81c-d0f0a2a13e0c"
      },
      "execution_count": null,
      "outputs": [
        {
          "output_type": "execute_result",
          "data": {
            "text/plain": [
              "0    1.043\n",
              "dtype: float64"
            ]
          },
          "metadata": {},
          "execution_count": 6
        }
      ]
    },
    {
      "cell_type": "code",
      "source": [
        "t = ss.t.interval(0.92, 8)\n",
        "t"
      ],
      "metadata": {
        "colab": {
          "base_uri": "https://localhost:8080/"
        },
        "id": "CQ4LxB9DCtO0",
        "outputId": "5fdf7aa3-1da8-4368-8fbe-2b470aa17140"
      },
      "execution_count": null,
      "outputs": [
        {
          "output_type": "execute_result",
          "data": {
            "text/plain": [
              "(-2.004151541481173, 2.0041515414811726)"
            ]
          },
          "metadata": {},
          "execution_count": 8
        }
      ]
    },
    {
      "cell_type": "code",
      "source": [
        "Li = (mean + t[0]*std/np.sqrt(len(l))).round(3)\n",
        "Ls = (mean + t[1]*std/np.sqrt(len(l))).round(3)\n",
        "print(Li, Ls)"
      ],
      "metadata": {
        "colab": {
          "base_uri": "https://localhost:8080/"
        },
        "id": "uZUC03ioC33n",
        "outputId": "a2188023-6244-4e31-9b3d-b42dd24ef608"
      },
      "execution_count": null,
      "outputs": [
        {
          "output_type": "stream",
          "name": "stdout",
          "text": [
            "0    16.225\n",
            "dtype: float64 0    17.619\n",
            "dtype: float64\n"
          ]
        }
      ]
    }
  ],
  "metadata": {
    "colab": {
      "provenance": [],
      "authorship_tag": "ABX9TyONXTVcNo2q6LIIzFaaniCD",
      "include_colab_link": true
    },
    "kernelspec": {
      "display_name": "Python 3",
      "name": "python3"
    },
    "language_info": {
      "name": "python"
    }
  },
  "nbformat": 4,
  "nbformat_minor": 0
}