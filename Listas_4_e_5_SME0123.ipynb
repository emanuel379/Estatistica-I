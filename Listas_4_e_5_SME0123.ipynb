{
  "nbformat": 4,
  "nbformat_minor": 0,
  "metadata": {
    "colab": {
      "provenance": [],
      "authorship_tag": "ABX9TyNNVbpSo2eMye2giC2NDYMD",
      "include_colab_link": true
    },
    "kernelspec": {
      "name": "python3",
      "display_name": "Python 3"
    },
    "language_info": {
      "name": "python"
    }
  },
  "cells": [
    {
      "cell_type": "markdown",
      "metadata": {
        "id": "view-in-github",
        "colab_type": "text"
      },
      "source": [
        "<a href=\"https://colab.research.google.com/github/emanuel379/Estatistica-I/blob/main/Listas_4_e_5_SME0123.ipynb\" target=\"_parent\"><img src=\"https://colab.research.google.com/assets/colab-badge.svg\" alt=\"Open In Colab\"/></a>"
      ]
    },
    {
      "cell_type": "code",
      "execution_count": null,
      "metadata": {
        "id": "QeKLe4We-bTO"
      },
      "outputs": [],
      "source": [
        "import numpy as np\n",
        "import matplotlib.pyplot as plt\n",
        "import pandas as pd\n",
        "import seaborn as sns\n",
        "import scipy.stats as ss"
      ]
    },
    {
      "cell_type": "markdown",
      "source": [
        "Lista 4"
      ],
      "metadata": {
        "id": "yGzLCBwpL3-G"
      }
    },
    {
      "cell_type": "code",
      "source": [
        "# Exercício 3\n",
        "\n",
        "fumantes = np.array([69.3, 56, 22.1, 47.6, 53.2, 48.1, 52.7, 34.4, 60.2, 43.8, 23.2, 13.8])\n",
        "Não_fumantes = np.array([28.6, 25.1, 26.4, 34.9, 29.8, 28.4, 38.5, 30.2, 30.6, 31.8, 41.6, 21.1, 36, 37.9, 13.9])"
      ],
      "metadata": {
        "id": "1zvngx_X-nKN"
      },
      "execution_count": null,
      "outputs": []
    },
    {
      "cell_type": "code",
      "source": [
        "# a\n",
        "\n",
        "x = fumantes.mean().round(2)\n",
        "y = Não_fumantes.mean().round(2)\n",
        "print(x)\n",
        "print(y)"
      ],
      "metadata": {
        "colab": {
          "base_uri": "https://localhost:8080/"
        },
        "id": "x7zL58od_F5P",
        "outputId": "b0a2bb51-f61c-4ff2-efce-46a210fc3563"
      },
      "execution_count": null,
      "outputs": [
        {
          "output_type": "stream",
          "name": "stdout",
          "text": [
            "43.7\n",
            "30.32\n"
          ]
        }
      ]
    },
    {
      "cell_type": "code",
      "source": [
        "# b\n",
        "\n",
        "x = fumantes.std().round(2)\n",
        "y = Não_fumantes.std().round(2)\n",
        "print(x)\n",
        "print(y)"
      ],
      "metadata": {
        "colab": {
          "base_uri": "https://localhost:8080/"
        },
        "id": "MxuTZv0UAqIB",
        "outputId": "81da5483-d291-4f94-fa62-4fe863babf85"
      },
      "execution_count": null,
      "outputs": [
        {
          "output_type": "stream",
          "name": "stdout",
          "text": [
            "16.21\n",
            "6.89\n"
          ]
        }
      ]
    },
    {
      "cell_type": "code",
      "source": [
        "# c\n",
        "\n",
        "\n",
        "plt.figure(figsize=(10, 8))\n",
        "plt.hist(fumantes, 6, rwidth= 0.9) # 6 é o número de classes\n",
        "plt.title('Tempo até dormir em uma amostra de fumantes')\n",
        "plt.xlabel('Tempo para dormir')\n",
        "plt.ylabel('Frequência Absoluta')\n",
        "plt.show()\n",
        "\n",
        "plt.figure(figsize=(10, 8))\n",
        "plt.hist(Não_fumantes, 6, rwidth= 0.9) # 6 é o número de classes\n",
        "plt.title('Tempo até dormir em uma amostra de não fumantes')\n",
        "plt.xlabel('Tempo para dormir')\n",
        "plt.ylabel('Frequência Absoluta')\n",
        "plt.show()\n",
        "\n",
        "pos = []\n",
        "keys = {}\n",
        "\n",
        "for number in fumantes:\n",
        "   if number not in keys:\n",
        "      keys[number] = 1\n",
        "      pos.append(1)\n",
        "   else:\n",
        "      keys[number] += 1\n",
        "      pos.append(keys[number])\n",
        "\n",
        "\n",
        "plt.scatter(fumantes, pos)\n",
        "plt.show()\n",
        "\n",
        "pos = []\n",
        "keys = {}\n",
        "\n",
        "for number in Não_fumantes:\n",
        "   if number not in keys:\n",
        "      keys[number] = 1\n",
        "      pos.append(1)\n",
        "   else:\n",
        "      keys[number] += 1\n",
        "      pos.append(keys[number])\n",
        "\n",
        "\n",
        "plt.scatter(Não_fumantes, pos)\n",
        "plt.show()"
      ],
      "metadata": {
        "colab": {
          "base_uri": "https://localhost:8080/",
          "height": 1000
        },
        "id": "Wo2q1HIeA35H",
        "outputId": "46f3f08e-4ab8-44fd-efdc-7635962386b5"
      },
      "execution_count": null,
      "outputs": [
        {
          "output_type": "display_data",
          "data": {
            "text/plain": [
              "<Figure size 720x576 with 1 Axes>"
            ],
            "image/png": "[encoded data removed]"
          },
          "metadata": {
            "needs_background": "light"
          }
        },
        {
          "output_type": "display_data",
          "data": {
            "text/plain": [
              "<Figure size 720x576 with 1 Axes>"
            ],
            "image/png": "[encoded data removed]"
          },
          "metadata": {
            "needs_background": "light"
          }
        },
        {
          "output_type": "display_data",
          "data": {
            "text/plain": [
              "<Figure size 432x288 with 1 Axes>"
            ],
            "image/png": "[encoded data removed]"
          },
          "metadata": {
            "needs_background": "light"
          }
        },
        {
          "output_type": "display_data",
          "data": {
            "text/plain": [
              "<Figure size 432x288 with 1 Axes>"
            ],
            "image/png": "[encoded data removed]"
          },
          "metadata": {
            "needs_background": "light"
          }
        }
      ]
    },
    {
      "cell_type": "code",
      "source": [
        "# Exercício 7\n",
        "\n",
        "X = np.array([6, 5.5, 5, 7.5, 12.5])\n",
        "Y = np.array([2, 3, 3.5, 4, 5])"
      ],
      "metadata": {
        "id": "PO22nDZyJFbG"
      },
      "execution_count": null,
      "outputs": []
    },
    {
      "cell_type": "code",
      "source": [
        "# a\n",
        "\n",
        "plt.figure(figsize=(10,8))\n",
        "plt.scatter(X, Y)\n",
        "plt.title('Gráfico de Dispersão substância-reagente')\n",
        "plt.xlabel('Reagente')\n",
        "plt.ylabel('Substância')\n",
        "plt.show()"
      ],
      "metadata": {
        "colab": {
          "base_uri": "https://localhost:8080/",
          "height": 513
        },
        "id": "gU3k_MF5Nfh-",
        "outputId": "84c82cb8-3767-4db7-cca8-cb861dda4ad8"
      },
      "execution_count": null,
      "outputs": [
        {
          "output_type": "display_data",
          "data": {
            "text/plain": [
              "<Figure size 720x576 with 1 Axes>"
            ],
            "image/png": "[encoded data removed]"
          },
          "metadata": {
            "needs_background": "light"
          }
        }
      ]
    },
    {
      "cell_type": "code",
      "source": [
        "# b\n",
        "\n",
        "reação = pd.DataFrame({'Reação': X, 'Substância': Y})\n",
        "\n",
        "correlação = reação.corr()\n",
        "plt.figure(figsize=(10, 8))\n",
        "sns.heatmap(data = correlação, cmap=\"YlGnBu\",\n",
        "            xticklabels=[\"X\",\"Y\"],\n",
        "            yticklabels=[\"X\", \"Y\"], annot = True)\n",
        "plt.show()"
      ],
      "metadata": {
        "colab": {
          "base_uri": "https://localhost:8080/",
          "height": 487
        },
        "id": "eRTizbwMO9bH",
        "outputId": "42a85b81-dd21-4c8e-d5ab-5958d0d85aa3"
      },
      "execution_count": null,
      "outputs": [
        {
          "output_type": "display_data",
          "data": {
            "text/plain": [
              "<Figure size 720x576 with 2 Axes>"
            ],
            "image/png": "[encoded data removed]"
          },
          "metadata": {
            "needs_background": "light"
          }
        }
      ]
    },
    {
      "cell_type": "code",
      "source": [
        "# d\n",
        "\n",
        "Z = np.array([2, 3, 3.5, 4, 5])\n",
        "Y = np.array([2, 3, 3.5, 4, 5])\n",
        "\n",
        "plt.figure(figsize=(10,8))\n",
        "plt.scatter(Z, Y)\n",
        "plt.title('Gráfico de Dispersão substância-reagente')\n",
        "plt.xlabel('Reagente')\n",
        "plt.ylabel('Substância')\n",
        "plt.show()"
      ],
      "metadata": {
        "colab": {
          "base_uri": "https://localhost:8080/",
          "height": 513
        },
        "id": "F53K9qUPSZ5Z",
        "outputId": "e964499d-bc59-44fe-f788-eb33a2b9f645"
      },
      "execution_count": null,
      "outputs": [
        {
          "output_type": "display_data",
          "data": {
            "text/plain": [
              "<Figure size 720x576 with 1 Axes>"
            ],
            "image/png": "[encoded data removed]"
          },
          "metadata": {
            "needs_background": "light"
          }
        }
      ]
    },
    {
      "cell_type": "code",
      "source": [
        "# Exercício 9\n",
        "\n",
        "r20 = np.array([2.07, 2.14, 2.22, 2.03, 2.21, 2.03, 2.05, 2.18, 2.09, 2.14, 2.11, 2.02])\n",
        "r45 = np.array([2.52, 2.15, 2.49, 2.03, 2.37, 2.05, 1.99, 2.42, 2.08, 2.42, 2.29, 2.01])\n",
        "\n",
        "r = pd.DataFrame({\"r20\": r20, \"r45\": r45})\n",
        "r20 = pd.DataFrame(r20)\n",
        "r45 = pd.DataFrame(r45)\n",
        "r.head()"
      ],
      "metadata": {
        "colab": {
          "base_uri": "https://localhost:8080/",
          "height": 206
        },
        "id": "iMwWkyTgVl_Z",
        "outputId": "3bc39b35-8f41-408b-9d83-431142c102c6"
      },
      "execution_count": null,
      "outputs": [
        {
          "output_type": "execute_result",
          "data": {
            "text/plain": [
              "    r20   r45\n",
              "0  2.07  2.52\n",
              "1  2.14  2.15\n",
              "2  2.22  2.49\n",
              "3  2.03  2.03\n",
              "4  2.21  2.37"
            ],
            "text/html": [
              "\n",
              "  <div id=\"df-259fe8fe-dc8d-42e7-812f-31d11873b168\">\n",
              "    <div class=\"colab-df-container\">\n",
              "      <div>\n",
              "<style scoped>\n",
              "    .dataframe tbody tr th:only-of-type {\n",
              "        vertical-align: middle;\n",
              "    }\n",
              "\n",
              "    .dataframe tbody tr th {\n",
              "        vertical-align: top;\n",
              "    }\n",
              "\n",
              "    .dataframe thead th {\n",
              "        text-align: right;\n",
              "    }\n",
              "</style>\n",
              "<table border=\"1\" class=\"dataframe\">\n",
              "  <thead>\n",
              "    <tr style=\"text-align: right;\">\n",
              "      <th></th>\n",
              "      <th>r20</th>\n",
              "      <th>r45</th>\n",
              "    </tr>\n",
              "  </thead>\n",
              "  <tbody>\n",
              "    <tr>\n",
              "      <th>0</th>\n",
              "      <td>2.07</td>\n",
              "      <td>2.52</td>\n",
              "    </tr>\n",
              "    <tr>\n",
              "      <th>1</th>\n",
              "      <td>2.14</td>\n",
              "      <td>2.15</td>\n",
              "    </tr>\n",
              "    <tr>\n",
              "      <th>2</th>\n",
              "      <td>2.22</td>\n",
              "      <td>2.49</td>\n",
              "    </tr>\n",
              "    <tr>\n",
              "      <th>3</th>\n",
              "      <td>2.03</td>\n",
              "      <td>2.03</td>\n",
              "    </tr>\n",
              "    <tr>\n",
              "      <th>4</th>\n",
              "      <td>2.21</td>\n",
              "      <td>2.37</td>\n",
              "    </tr>\n",
              "  </tbody>\n",
              "</table>\n",
              "</div>\n",
              "      <button class=\"colab-df-convert\" onclick=\"convertToInteractive('df-259fe8fe-dc8d-42e7-812f-31d11873b168')\"\n",
              "              title=\"Convert this dataframe to an interactive table.\"\n",
              "              style=\"display:none;\">\n",
              "        \n",
              "  <svg xmlns=\"http://www.w3.org/2000/svg\" height=\"24px\"viewBox=\"0 0 24 24\"\n",
              "       width=\"24px\">\n",
              "    <path d=\"M0 0h24v24H0V0z\" fill=\"none\"/>\n",
              "    <path d=\"M18.56 5.44l.94 2.06.94-2.06 2.06-.94-2.06-.94-.94-2.06-.94 2.06-2.06.94zm-11 1L8.5 8.5l.94-2.06 2.06-.94-2.06-.94L8.5 2.5l-.94 2.06-2.06.94zm10 10l.94 2.06.94-2.06 2.06-.94-2.06-.94-.94-2.06-.94 2.06-2.06.94z\"/><path d=\"M17.41 7.96l-1.37-1.37c-.4-.4-.92-.59-1.43-.59-.52 0-1.04.2-1.43.59L10.3 9.45l-7.72 7.72c-.78.78-.78 2.05 0 2.83L4 21.41c.39.39.9.59 1.41.59.51 0 1.02-.2 1.41-.59l7.78-7.78 2.81-2.81c.8-.78.8-2.07 0-2.86zM5.41 20L4 18.59l7.72-7.72 1.47 1.35L5.41 20z\"/>\n",
              "  </svg>\n",
              "      </button>\n",
              "      \n",
              "  <style>\n",
              "    .colab-df-container {\n",
              "      display:flex;\n",
              "      flex-wrap:wrap;\n",
              "      gap: 12px;\n",
              "    }\n",
              "\n",
              "    .colab-df-convert {\n",
              "      background-color: #E8F0FE;\n",
              "      border: none;\n",
              "      border-radius: 50%;\n",
              "      cursor: pointer;\n",
              "      display: none;\n",
              "      fill: #1967D2;\n",
              "      height: 32px;\n",
              "      padding: 0 0 0 0;\n",
              "      width: 32px;\n",
              "    }\n",
              "\n",
              "    .colab-df-convert:hover {\n",
              "      background-color: #E2EBFA;\n",
              "      box-shadow: 0px 1px 2px rgba(60, 64, 67, 0.3), 0px 1px 3px 1px rgba(60, 64, 67, 0.15);\n",
              "      fill: #174EA6;\n",
              "    }\n",
              "\n",
              "    [theme=dark] .colab-df-convert {\n",
              "      background-color: #3B4455;\n",
              "      fill: #D2E3FC;\n",
              "    }\n",
              "\n",
              "    [theme=dark] .colab-df-convert:hover {\n",
              "      background-color: #434B5C;\n",
              "      box-shadow: 0px 1px 3px 1px rgba(0, 0, 0, 0.15);\n",
              "      filter: drop-shadow(0px 1px 2px rgba(0, 0, 0, 0.3));\n",
              "      fill: #FFFFFF;\n",
              "    }\n",
              "  </style>\n",
              "\n",
              "      <script>\n",
              "        const buttonEl =\n",
              "          document.querySelector('#df-259fe8fe-dc8d-42e7-812f-31d11873b168 button.colab-df-convert');\n",
              "        buttonEl.style.display =\n",
              "          google.colab.kernel.accessAllowed ? 'block' : 'none';\n",
              "\n",
              "        async function convertToInteractive(key) {\n",
              "          const element = document.querySelector('#df-259fe8fe-dc8d-42e7-812f-31d11873b168');\n",
              "          const dataTable =\n",
              "            await google.colab.kernel.invokeFunction('convertToInteractive',\n",
              "                                                     [key], {});\n",
              "          if (!dataTable) return;\n",
              "\n",
              "          const docLinkHtml = 'Like what you see? Visit the ' +\n",
              "            '<a target=\"_blank\" href=https://colab.research.google.com/notebooks/data_table.ipynb>data table notebook</a>'\n",
              "            + ' to learn more about interactive tables.';\n",
              "          element.innerHTML = '';\n",
              "          dataTable['output_type'] = 'display_data';\n",
              "          await google.colab.output.renderOutput(dataTable, element);\n",
              "          const docLink = document.createElement('div');\n",
              "          docLink.innerHTML = docLinkHtml;\n",
              "          element.appendChild(docLink);\n",
              "        }\n",
              "      </script>\n",
              "    </div>\n",
              "  </div>\n",
              "  "
            ]
          },
          "metadata": {},
          "execution_count": 5
        }
      ]
    },
    {
      "cell_type": "code",
      "source": [
        "# a\n",
        "\n",
        "mean_r20 = r20.mean().round(2)\n",
        "median_r20 = r20.median().round(2)\n",
        "var_r20 = r20.var().round(3)\n",
        "std_r20 = r20.std().round(3)\n",
        "q11 = np.quantile(r20, .25).round(2)\n",
        "q31 = np.quantile(r20, .75).round(2)\n",
        "\n",
        "mean_r45 = r45.mean().round(2)\n",
        "median_r45 = r45.median().round(2)\n",
        "var_r45 = r45.var().round(2)\n",
        "std_r45 = r45.std().round(2)\n",
        "q12 = np.quantile(r45, .25).round(2)\n",
        "q32 = np.quantile(r45, .75).round(2)\n",
        "\n",
        "print(f\"Média r20: {mean_r20}\")\n",
        "print(f\"Mediana r20: {median_r20}\")\n",
        "print(f\"Variância r20: {var_r20}\")\n",
        "print(f\"Desvio Padrão r20: {std_r20}\")\n",
        "print(f\"Primeiro quartil r20: {q11}\")\n",
        "print(f\"Terceiro quartil r20: {q31}\")\n",
        "\n",
        "print(f\"Média r45: {mean_r45}\")\n",
        "print(f\"Mediana r45: {median_r45}\")\n",
        "print(f\"Variância r45: {var_r45}\")\n",
        "print(f\"Desvio Padrão r45: {std_r45}\")\n",
        "print(f\"Primeiro quartil r45: {q12}\")\n",
        "print(f\"Terceiro quartil r45: {q32}\")\n",
        "\n",
        "\n"
      ],
      "metadata": {
        "colab": {
          "base_uri": "https://localhost:8080/"
        },
        "id": "V5Uvlw6OWZrW",
        "outputId": "acef041b-9e50-434b-c8f5-8f040ea40014"
      },
      "execution_count": null,
      "outputs": [
        {
          "output_type": "stream",
          "name": "stdout",
          "text": [
            "Média r20: 0    2.11\n",
            "dtype: float64\n",
            "Mediana r20: 0    2.1\n",
            "dtype: float64\n",
            "Variância r20: 0    0.005\n",
            "dtype: float64\n",
            "Desvio Padrão r20: 0    0.071\n",
            "dtype: float64\n",
            "Primeiro quartil r20: 2.04\n",
            "Terceiro quartil r20: 2.15\n",
            "Média r45: 0    2.24\n",
            "dtype: float64\n",
            "Mediana r45: 0    2.22\n",
            "dtype: float64\n",
            "Variância r45: 0    0.04\n",
            "dtype: float64\n",
            "Desvio Padrão r45: 0    0.2\n",
            "dtype: float64\n",
            "Primeiro quartil r45: 2.04\n",
            "Terceiro quartil r45: 2.42\n"
          ]
        }
      ]
    },
    {
      "cell_type": "code",
      "source": [
        "# b\n",
        "\n",
        "plt.figure(figsize=(10, 8))\n",
        "sns.boxplot(data = r[[\"r20\", \"r45\"]], showmeans=True, meanprops={\"marker\": \"*\", \"markeredgecolor\": \"black\", \"markersize\": \"10\"}).set(title=\"Análise das resistências\")\n",
        "plt.xlabel(\"Temperatura\")\n",
        "plt.ylabel(\"Resistência\")\n",
        "plt.show()"
      ],
      "metadata": {
        "colab": {
          "base_uri": "https://localhost:8080/",
          "height": 513
        },
        "id": "UFkIIlrTY35o",
        "outputId": "d0df6e09-fe3a-4cf0-c586-f1e2aaecc30b"
      },
      "execution_count": null,
      "outputs": [
        {
          "output_type": "display_data",
          "data": {
            "text/plain": [
              "<Figure size 720x576 with 1 Axes>"
            ],
            "image/png": "[encoded data removed]"
          },
          "metadata": {
            "needs_background": "light"
          }
        }
      ]
    },
    {
      "cell_type": "markdown",
      "source": [
        "Lista 5"
      ],
      "metadata": {
        "id": "RDIVVM0WL9Ty"
      }
    },
    {
      "cell_type": "code",
      "source": [
        "import scipy.stats as ss"
      ],
      "metadata": {
        "id": "hneTWBzNXvI-"
      },
      "execution_count": null,
      "outputs": []
    },
    {
      "cell_type": "code",
      "source": [
        "# 2\n",
        "\n",
        "n = int(input())\n",
        "p = float(input())\n",
        "P = ss.binom.cdf(0.9*n*p, n, p)\n",
        "P"
      ],
      "metadata": {
        "id": "de019pJ-h1BX",
        "colab": {
          "base_uri": "https://localhost:8080/"
        },
        "outputId": "e5fd77d0-722d-4b4b-f254-b24e1146ba5e"
      },
      "execution_count": null,
      "outputs": [
        {
          "name": "stdout",
          "output_type": "stream",
          "text": [
            "500\n",
            ".54\n"
          ]
        },
        {
          "output_type": "execute_result",
          "data": {
            "text/plain": [
              "0.008794789740029719"
            ]
          },
          "metadata": {},
          "execution_count": 2
        }
      ]
    },
    {
      "cell_type": "code",
      "source": [
        "# 5\n",
        "\n",
        "P = 1 - (ss.norm.cdf(2, 0, 1) -ss.norm.cdf(-2, 0, 1))\n",
        "P"
      ],
      "metadata": {
        "colab": {
          "base_uri": "https://localhost:8080/"
        },
        "id": "wZBjp1AfNgCo",
        "outputId": "a3650bd9-12d8-4d49-d524-c3eefe4df825"
      },
      "execution_count": null,
      "outputs": [
        {
          "output_type": "execute_result",
          "data": {
            "text/plain": [
              "0.04550026389635842"
            ]
          },
          "metadata": {},
          "execution_count": 3
        }
      ]
    },
    {
      "cell_type": "code",
      "source": [
        "# 8\n",
        "\n",
        "n = int(input())\n",
        "p = float(input())\n",
        "interval = ss.binom.interval(0.95, n, p)\n",
        "interval"
      ],
      "metadata": {
        "id": "MCOUvxTDTtCd",
        "colab": {
          "base_uri": "https://localhost:8080/"
        },
        "outputId": "937c8b69-e815-4726-b5c2-8b60dcbc2fd2"
      },
      "execution_count": null,
      "outputs": [
        {
          "name": "stdout",
          "output_type": "stream",
          "text": [
            "1000\n",
            ".5\n"
          ]
        },
        {
          "output_type": "execute_result",
          "data": {
            "text/plain": [
              "(469.0, 531.0)"
            ]
          },
          "metadata": {},
          "execution_count": 9
        }
      ]
    },
    {
      "cell_type": "code",
      "source": [
        "# 9"
      ],
      "metadata": {
        "id": "6rEPFPSCHELX"
      },
      "execution_count": null,
      "outputs": []
    },
    {
      "cell_type": "code",
      "source": [
        "# a\n",
        "\n",
        "P = 1 - ss.norm.cdf(81.65, 78.47, 13.61)\n",
        "P"
      ],
      "metadata": {
        "colab": {
          "base_uri": "https://localhost:8080/"
        },
        "id": "CqO4K68BHNE3",
        "outputId": "5f07ffae-6e57-4e20-c8e8-6175b4ae54b0"
      },
      "execution_count": null,
      "outputs": [
        {
          "output_type": "execute_result",
          "data": {
            "text/plain": [
              "0.4076276834679827"
            ]
          },
          "metadata": {},
          "execution_count": 11
        }
      ]
    },
    {
      "cell_type": "code",
      "source": [
        "# b: considerando a normalização da média\n",
        "\n",
        "P = 1 - ss.norm.cdf(81.65, 78.47, 13.61/6)\n",
        "P"
      ],
      "metadata": {
        "colab": {
          "base_uri": "https://localhost:8080/"
        },
        "id": "WHdEXyoZHcmr",
        "outputId": "4300c686-0754-48bc-adb5-90434f29bf01"
      },
      "execution_count": null,
      "outputs": [
        {
          "output_type": "execute_result",
          "data": {
            "text/plain": [
              "0.08047100819967401"
            ]
          },
          "metadata": {},
          "execution_count": 12
        }
      ]
    },
    {
      "cell_type": "code",
      "source": [
        "# 10\n",
        "\n",
        "ss.norm.ppf(0.98, 0, 1)"
      ],
      "metadata": {
        "colab": {
          "base_uri": "https://localhost:8080/"
        },
        "id": "xn1FSyjcH1k6",
        "outputId": "81a38f28-46e5-42ee-ee23-75fc427d70a9"
      },
      "execution_count": null,
      "outputs": [
        {
          "output_type": "execute_result",
          "data": {
            "text/plain": [
              "2.0537489106318225"
            ]
          },
          "metadata": {},
          "execution_count": 14
        }
      ]
    }
  ]
}