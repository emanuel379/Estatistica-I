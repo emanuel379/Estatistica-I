{
  "nbformat": 4,
  "nbformat_minor": 0,
  "metadata": {
    "colab": {
      "provenance": [],
      "authorship_tag": "ABX9TyOLTqs9UISpQQg8yfL1y3i5",
      "include_colab_link": true
    },
    "kernelspec": {
      "name": "python3",
      "display_name": "Python 3"
    },
    "language_info": {
      "name": "python"
    }
  },
  "cells": [
    {
      "cell_type": "markdown",
      "metadata": {
        "id": "view-in-github",
        "colab_type": "text"
      },
      "source": [
        "<a href=\"https://colab.research.google.com/github/emanuel379/Estatistica-I/blob/main/Lista_6%2C_simulado_e_prova.ipynb\" target=\"_parent\"><img src=\"https://colab.research.google.com/assets/colab-badge.svg\" alt=\"Open In Colab\"/></a>"
      ]
    },
    {
      "cell_type": "markdown",
      "source": [
        "Lista 6"
      ],
      "metadata": {
        "id": "Z7TAzJ4AyzGu"
      }
    },
    {
      "cell_type": "code",
      "execution_count": null,
      "metadata": {
        "id": "WZ2FzIuFwtGQ"
      },
      "outputs": [],
      "source": [
        "import scipy.stats as ss\n",
        "import pandas as pd\n",
        "import numpy as np"
      ]
    },
    {
      "cell_type": "code",
      "source": [
        "# 10\n",
        "\n",
        "2*ss.t.cdf(-2.25, 98)"
      ],
      "metadata": {
        "colab": {
          "base_uri": "https://localhost:8080/"
        },
        "id": "yaoPNkZww2I5",
        "outputId": "4f61c9a1-6c4e-4b40-d769-94c1362330aa"
      },
      "execution_count": null,
      "outputs": [
        {
          "output_type": "execute_result",
          "data": {
            "text/plain": [
              "0.026685227138194278"
            ]
          },
          "metadata": {},
          "execution_count": 3
        }
      ]
    },
    {
      "cell_type": "code",
      "source": [
        "# 11\n",
        "\n",
        "a = pd.DataFrame([206, 198, 195, 190, 210, 211, 206, 197, 200, 198, 189, 194, 203, 205])\n",
        "b = pd.DataFrame([198, 194, 193, 190, 185, 188, 200, 189, 199, 197, 183, 180, 192, 189])"
      ],
      "metadata": {
        "id": "KMNbr0ggxTxt"
      },
      "execution_count": null,
      "outputs": []
    },
    {
      "cell_type": "code",
      "source": [
        "print(a.mean(), b.mean())"
      ],
      "metadata": {
        "colab": {
          "base_uri": "https://localhost:8080/"
        },
        "id": "r9clwBgxzvFf",
        "outputId": "eccb665a-1936-4ee2-819a-73f42004eb77"
      },
      "execution_count": null,
      "outputs": [
        {
          "output_type": "stream",
          "name": "stdout",
          "text": [
            "0    200.142857\n",
            "dtype: float64 0    191.214286\n",
            "dtype: float64\n"
          ]
        }
      ]
    },
    {
      "cell_type": "code",
      "source": [
        "print(a.var(), b.var())"
      ],
      "metadata": {
        "colab": {
          "base_uri": "https://localhost:8080/"
        },
        "id": "Ax5GQMAozzaA",
        "outputId": "99ebdbd7-2525-473c-9756-9ee860ed6e42"
      },
      "execution_count": null,
      "outputs": [
        {
          "output_type": "stream",
          "name": "stdout",
          "text": [
            "0    48.131868\n",
            "dtype: float64 0    37.104396\n",
            "dtype: float64\n"
          ]
        }
      ]
    },
    {
      "cell_type": "code",
      "source": [
        "# a\n",
        "\n",
        "ss.t.ppf(0.005, 26)"
      ],
      "metadata": {
        "colab": {
          "base_uri": "https://localhost:8080/"
        },
        "id": "cM_198iy08U3",
        "outputId": "774ed2df-ad38-4693-87b0-9e8c91dcc3e7"
      },
      "execution_count": null,
      "outputs": [
        {
          "output_type": "execute_result",
          "data": {
            "text/plain": [
              "-2.778714533328914"
            ]
          },
          "metadata": {},
          "execution_count": 11
        }
      ]
    },
    {
      "cell_type": "code",
      "source": [
        "# b\n",
        "\n",
        "ss.t.cdf(-3.619, 26)*2"
      ],
      "metadata": {
        "colab": {
          "base_uri": "https://localhost:8080/"
        },
        "id": "LofZBU7k2OXn",
        "outputId": "69c10bdc-c086-4c27-864a-9a4281159761"
      },
      "execution_count": null,
      "outputs": [
        {
          "output_type": "execute_result",
          "data": {
            "text/plain": [
              "0.0012521796436714859"
            ]
          },
          "metadata": {},
          "execution_count": 2
        }
      ]
    },
    {
      "cell_type": "code",
      "source": [
        "# 12\n",
        "\n",
        "X = [ 54, 55, 58, 50, 61]\n",
        "Y = [ 51, 54, 55, 52, 53]\n",
        "\n",
        "X = pd.DataFrame(X)\n",
        "Y = pd.DataFrame(Y)"
      ],
      "metadata": {
        "id": "mhbMrlzn3XeJ"
      },
      "execution_count": null,
      "outputs": []
    },
    {
      "cell_type": "code",
      "source": [
        "Y.mean()"
      ],
      "metadata": {
        "colab": {
          "base_uri": "https://localhost:8080/"
        },
        "id": "Sp7aVhdv7rcw",
        "outputId": "e5df7106-94cc-46d2-b446-c6e978827565"
      },
      "execution_count": null,
      "outputs": [
        {
          "output_type": "execute_result",
          "data": {
            "text/plain": [
              "0    53.0\n",
              "dtype: float64"
            ]
          },
          "metadata": {},
          "execution_count": 4
        }
      ]
    },
    {
      "cell_type": "code",
      "source": [
        "X.mean()"
      ],
      "metadata": {
        "colab": {
          "base_uri": "https://localhost:8080/"
        },
        "id": "TwP1Oxh17vFh",
        "outputId": "80806b84-bf96-4d42-90e2-e9cb4f8227d6"
      },
      "execution_count": null,
      "outputs": [
        {
          "output_type": "execute_result",
          "data": {
            "text/plain": [
              "0    55.6\n",
              "dtype: float64"
            ]
          },
          "metadata": {},
          "execution_count": 5
        }
      ]
    },
    {
      "cell_type": "code",
      "source": [
        "X.var()"
      ],
      "metadata": {
        "colab": {
          "base_uri": "https://localhost:8080/"
        },
        "id": "RI3c6pXt8AFu",
        "outputId": "77c3f959-6eac-4f49-bf35-9be066382e9b"
      },
      "execution_count": null,
      "outputs": [
        {
          "output_type": "execute_result",
          "data": {
            "text/plain": [
              "0    17.3\n",
              "dtype: float64"
            ]
          },
          "metadata": {},
          "execution_count": 6
        }
      ]
    },
    {
      "cell_type": "code",
      "source": [
        "Y.var()"
      ],
      "metadata": {
        "colab": {
          "base_uri": "https://localhost:8080/"
        },
        "id": "6apxlIGp8IpT",
        "outputId": "30b34c85-0cdd-4746-b8b3-13a57e5e3dbb"
      },
      "execution_count": null,
      "outputs": [
        {
          "output_type": "execute_result",
          "data": {
            "text/plain": [
              "0    2.5\n",
              "dtype: float64"
            ]
          },
          "metadata": {},
          "execution_count": 7
        }
      ]
    },
    {
      "cell_type": "code",
      "source": [
        "T = (55.6 - 53)/np.sqrt((17.3 + 2.5)/5)\n",
        "T"
      ],
      "metadata": {
        "colab": {
          "base_uri": "https://localhost:8080/"
        },
        "id": "TEu0BFax8PON",
        "outputId": "b06e04d5-a779-4c78-9426-4e1a0f9c43cd"
      },
      "execution_count": null,
      "outputs": [
        {
          "output_type": "execute_result",
          "data": {
            "text/plain": [
              "1.3065491598369765"
            ]
          },
          "metadata": {},
          "execution_count": 11
        }
      ]
    },
    {
      "cell_type": "code",
      "source": [
        "ss.t.ppf(0.1, 8)"
      ],
      "metadata": {
        "colab": {
          "base_uri": "https://localhost:8080/"
        },
        "id": "cfSZtSJ29PBP",
        "outputId": "b730beb7-0110-4a6d-e039-174558e15e4f"
      },
      "execution_count": null,
      "outputs": [
        {
          "output_type": "execute_result",
          "data": {
            "text/plain": [
              "-1.3968153097434188"
            ]
          },
          "metadata": {},
          "execution_count": 16
        }
      ]
    },
    {
      "cell_type": "code",
      "source": [
        "ss.t.cdf(T, 8)"
      ],
      "metadata": {
        "colab": {
          "base_uri": "https://localhost:8080/"
        },
        "id": "XNnVhraX9hCn",
        "outputId": "dccd6feb-98ea-4866-cb33-6e73082d00bb"
      },
      "execution_count": null,
      "outputs": [
        {
          "output_type": "execute_result",
          "data": {
            "text/plain": [
              "0.8861630382934862"
            ]
          },
          "metadata": {},
          "execution_count": 13
        }
      ]
    },
    {
      "cell_type": "markdown",
      "source": [
        "Simulado 6"
      ],
      "metadata": {
        "id": "D1TNct7I_2iw"
      }
    },
    {
      "cell_type": "code",
      "source": [
        "# 1\n",
        "\n",
        "dados = [174.8, 170.5, 172.0, 170.9, 178.1, 179.0, 184.5, 143.0, 171.2, 172.6, 140.4, 165.2]\n",
        "a = 0.05\n",
        "\n",
        "dados = pd.DataFrame(dados)"
      ],
      "metadata": {
        "id": "E4wrjN5-_1Yk"
      },
      "execution_count": null,
      "outputs": []
    },
    {
      "cell_type": "code",
      "source": [
        "dados.mean()"
      ],
      "metadata": {
        "colab": {
          "base_uri": "https://localhost:8080/"
        },
        "id": "JMXzD662AtF2",
        "outputId": "7bc4992d-cc61-4a25-d578-136ead004961"
      },
      "execution_count": null,
      "outputs": [
        {
          "output_type": "execute_result",
          "data": {
            "text/plain": [
              "0    168.516667\n",
              "dtype: float64"
            ]
          },
          "metadata": {},
          "execution_count": 18
        }
      ]
    },
    {
      "cell_type": "code",
      "source": [
        "dados.std()"
      ],
      "metadata": {
        "colab": {
          "base_uri": "https://localhost:8080/"
        },
        "id": "cn4Zh1XjA461",
        "outputId": "7afd872c-b4f5-477b-b73a-0a2df3ab302f"
      },
      "execution_count": null,
      "outputs": [
        {
          "output_type": "execute_result",
          "data": {
            "text/plain": [
              "0    13.466985\n",
              "dtype: float64"
            ]
          },
          "metadata": {},
          "execution_count": 19
        }
      ]
    },
    {
      "cell_type": "code",
      "source": [
        "# Estatística\n",
        "\n",
        "T = (168.516667 - 168)/(13.466985/np.sqrt(12))\n",
        "round(T, 3)"
      ],
      "metadata": {
        "colab": {
          "base_uri": "https://localhost:8080/"
        },
        "id": "S_grDuL9Ax3a",
        "outputId": "8c5f32bb-9216-4811-a61c-b91fec63baab"
      },
      "execution_count": null,
      "outputs": [
        {
          "output_type": "execute_result",
          "data": {
            "text/plain": [
              "0.133"
            ]
          },
          "metadata": {},
          "execution_count": 22
        }
      ]
    },
    {
      "cell_type": "code",
      "source": [
        "# Valor-p\n",
        "\n",
        "ss.t.cdf(0.13290183282957702, 11)"
      ],
      "metadata": {
        "colab": {
          "base_uri": "https://localhost:8080/"
        },
        "id": "CWSKOQo6BNpP",
        "outputId": "f6371c52-2bfe-45cf-ff42-6c34eaa1d84f"
      },
      "execution_count": null,
      "outputs": [
        {
          "output_type": "execute_result",
          "data": {
            "text/plain": [
              "0.5516644632006518"
            ]
          },
          "metadata": {},
          "execution_count": 23
        }
      ]
    },
    {
      "cell_type": "code",
      "source": [
        "# 2\n",
        "\n",
        "p = 118/2600\n",
        "p"
      ],
      "metadata": {
        "colab": {
          "base_uri": "https://localhost:8080/"
        },
        "id": "m_e05czICHXr",
        "outputId": "3145e17a-43c9-4976-ad5f-aef7702ac826"
      },
      "execution_count": null,
      "outputs": [
        {
          "output_type": "execute_result",
          "data": {
            "text/plain": [
              "0.045384615384615384"
            ]
          },
          "metadata": {},
          "execution_count": 24
        }
      ]
    },
    {
      "cell_type": "code",
      "source": [
        "# Estatística\n",
        "\n",
        "T = (p - 0.04)/(np.sqrt(0.04*0.96/2600))\n",
        "round(T, 3)"
      ],
      "metadata": {
        "colab": {
          "base_uri": "https://localhost:8080/"
        },
        "id": "RRH3uVM2DDSs",
        "outputId": "862c5bd1-1d7f-4a1b-fe3e-965a1d754bbc"
      },
      "execution_count": null,
      "outputs": [
        {
          "output_type": "execute_result",
          "data": {
            "text/plain": [
              "1.401"
            ]
          },
          "metadata": {},
          "execution_count": 28
        }
      ]
    },
    {
      "cell_type": "code",
      "source": [
        "# Valor-p\n",
        "\n",
        "ss.norm.cdf(T, 0, 1)"
      ],
      "metadata": {
        "colab": {
          "base_uri": "https://localhost:8080/"
        },
        "id": "XLEVsZQ_Dp3s",
        "outputId": "15bea101-ad1d-4840-a725-571ff83c44ed"
      },
      "execution_count": null,
      "outputs": [
        {
          "output_type": "execute_result",
          "data": {
            "text/plain": [
              "0.9947676254500678"
            ]
          },
          "metadata": {},
          "execution_count": 20
        }
      ]
    },
    {
      "cell_type": "code",
      "source": [
        "# 3\n",
        "\n",
        "# Estatística\n",
        "\n",
        "T = (53 - 61)/(np.sqrt((49/39) + (81/47)))\n",
        "T"
      ],
      "metadata": {
        "colab": {
          "base_uri": "https://localhost:8080/"
        },
        "id": "QI0mZdMcFl9D",
        "outputId": "69ad96be-98e5-4a70-b178-85212381f880"
      },
      "execution_count": null,
      "outputs": [
        {
          "output_type": "execute_result",
          "data": {
            "text/plain": [
              "-4.634419806460341"
            ]
          },
          "metadata": {},
          "execution_count": 39
        }
      ]
    },
    {
      "cell_type": "code",
      "source": [
        "# Valor-p\n",
        "\n",
        "round(ss.norm.cdf(T, 0, 1)*2, 3)"
      ],
      "metadata": {
        "colab": {
          "base_uri": "https://localhost:8080/"
        },
        "id": "MNWKJnRYGZAc",
        "outputId": "3c9c660d-cdf5-4a8b-994c-822dc084ac40"
      },
      "execution_count": null,
      "outputs": [
        {
          "output_type": "execute_result",
          "data": {
            "text/plain": [
              "0.0"
            ]
          },
          "metadata": {},
          "execution_count": 40
        }
      ]
    },
    {
      "cell_type": "code",
      "source": [
        "# 4\n",
        "\n",
        "# Estatística\n",
        "\n",
        "T = (42.3 - 38.8)/(np.sqrt((2.27*2.27/12) + (3.64*3.64/14)))\n",
        "T"
      ],
      "metadata": {
        "colab": {
          "base_uri": "https://localhost:8080/"
        },
        "id": "vauvOtA3HVKn",
        "outputId": "a7900e9d-5006-40e8-e1a5-65046095439b"
      },
      "execution_count": null,
      "outputs": [
        {
          "output_type": "execute_result",
          "data": {
            "text/plain": [
              "2.9839330623712166"
            ]
          },
          "metadata": {},
          "execution_count": 41
        }
      ]
    },
    {
      "cell_type": "code",
      "source": [
        "# Valor-p\n",
        "\n",
        "round(ss.t.cdf(-T, 24)*2, 3)"
      ],
      "metadata": {
        "colab": {
          "base_uri": "https://localhost:8080/"
        },
        "id": "XtcoKq6YinS_",
        "outputId": "6ad5f7c5-1d2c-4fbb-8bf2-6250d6aaf090"
      },
      "execution_count": null,
      "outputs": [
        {
          "output_type": "execute_result",
          "data": {
            "text/plain": [
              "0.006"
            ]
          },
          "metadata": {},
          "execution_count": 45
        }
      ]
    },
    {
      "cell_type": "code",
      "source": [
        "# 5\n",
        "\n",
        "p1 = 1210/2870\n",
        "p2 = 1015/2200"
      ],
      "metadata": {
        "id": "OqXK-R7FjvIg"
      },
      "execution_count": null,
      "outputs": []
    },
    {
      "cell_type": "code",
      "source": [
        "# Estatística\n",
        "\n",
        "T = (p1 - p2)/np.sqrt((p1*(1-p1)/2870) + (p2*(1-p2)/2200))\n",
        "T"
      ],
      "metadata": {
        "colab": {
          "base_uri": "https://localhost:8080/"
        },
        "id": "MkFUcDbxkDBC",
        "outputId": "c5b96989-acb2-4508-a6ef-735c604deee8"
      },
      "execution_count": null,
      "outputs": [
        {
          "output_type": "execute_result",
          "data": {
            "text/plain": [
              "-2.8262205199373382"
            ]
          },
          "metadata": {},
          "execution_count": 48
        }
      ]
    },
    {
      "cell_type": "code",
      "source": [
        "# Valor-p\n",
        "\n",
        "round(ss.norm.cdf(T, 0, 1), 3)"
      ],
      "metadata": {
        "colab": {
          "base_uri": "https://localhost:8080/"
        },
        "id": "Lt7r92feklch",
        "outputId": "322b5b76-083b-4512-8822-609d28a5aaf6"
      },
      "execution_count": null,
      "outputs": [
        {
          "output_type": "execute_result",
          "data": {
            "text/plain": [
              "0.002"
            ]
          },
          "metadata": {},
          "execution_count": 49
        }
      ]
    },
    {
      "cell_type": "markdown",
      "source": [
        "Prova 6"
      ],
      "metadata": {
        "id": "ZaUTWnes77wc"
      }
    },
    {
      "cell_type": "code",
      "source": [
        "# 1\n",
        "\n",
        "# Estatística\n",
        "\n",
        "T = (50 - 54)/np.sqrt(18/19)\n",
        "round(T, 4)"
      ],
      "metadata": {
        "colab": {
          "base_uri": "https://localhost:8080/"
        },
        "id": "SLRh9NpU79BE",
        "outputId": "30549b18-9d7b-4101-c339-baeb9f7c90f5"
      },
      "execution_count": null,
      "outputs": [
        {
          "output_type": "execute_result",
          "data": {
            "text/plain": [
              "-4.1096"
            ]
          },
          "metadata": {},
          "execution_count": 3
        }
      ]
    },
    {
      "cell_type": "code",
      "source": [
        "# Valor-p\n",
        "\n",
        "round(2*ss.norm.cdf(T, 0, 1), 4)"
      ],
      "metadata": {
        "colab": {
          "base_uri": "https://localhost:8080/"
        },
        "id": "aeG0SNwu8c-X",
        "outputId": "4b2a1a95-25ad-458c-9cd6-8d53429cb931"
      },
      "execution_count": null,
      "outputs": [
        {
          "output_type": "execute_result",
          "data": {
            "text/plain": [
              "0.0"
            ]
          },
          "metadata": {},
          "execution_count": 5
        }
      ]
    },
    {
      "cell_type": "code",
      "source": [
        "# 2\n",
        "\n",
        "# Estatística\n",
        "\n",
        "T = (52 - 49)/(np.sqrt((100/72) + (64/57)))\n",
        "round(T, 4)"
      ],
      "metadata": {
        "colab": {
          "base_uri": "https://localhost:8080/"
        },
        "id": "pP7f9Dm1-eZS",
        "outputId": "20b6755d-f40b-4010-87d3-9c1cec864c08"
      },
      "execution_count": null,
      "outputs": [
        {
          "output_type": "execute_result",
          "data": {
            "text/plain": [
              "1.8929"
            ]
          },
          "metadata": {},
          "execution_count": 6
        }
      ]
    },
    {
      "cell_type": "code",
      "source": [
        "# Valor-p\n",
        "\n",
        "round(ss.norm.cdf(-T, 0, 1)*2, 4)"
      ],
      "metadata": {
        "colab": {
          "base_uri": "https://localhost:8080/"
        },
        "id": "Qx0UOlFS_KKL",
        "outputId": "fba7459f-4e91-4b01-aa4d-81e611b1e73f"
      },
      "execution_count": null,
      "outputs": [
        {
          "output_type": "execute_result",
          "data": {
            "text/plain": [
              "0.0584"
            ]
          },
          "metadata": {},
          "execution_count": 8
        }
      ]
    },
    {
      "cell_type": "code",
      "source": [
        "# 3\n",
        "\n",
        "# Estatística\n",
        "\n",
        "T = (29 - 22.1)/(np.sqrt((4.18*4.18/17) + (3.97*3.97/13)))\n",
        "round(T, 4)"
      ],
      "metadata": {
        "colab": {
          "base_uri": "https://localhost:8080/"
        },
        "id": "zEZXuOI1BHwp",
        "outputId": "48f86f50-51d7-4281-dd5a-e16275566c62"
      },
      "execution_count": null,
      "outputs": [
        {
          "output_type": "execute_result",
          "data": {
            "text/plain": [
              "4.6101"
            ]
          },
          "metadata": {},
          "execution_count": 9
        }
      ]
    },
    {
      "cell_type": "code",
      "source": [
        "# Valor-p\n",
        "\n",
        "round(ss.t.cdf(-T, 28)*2, 4)"
      ],
      "metadata": {
        "colab": {
          "base_uri": "https://localhost:8080/"
        },
        "id": "cyCP6K3yBoWR",
        "outputId": "c34d0b87-ffca-4e7a-cbf9-3d0000063af7"
      },
      "execution_count": null,
      "outputs": [
        {
          "output_type": "execute_result",
          "data": {
            "text/plain": [
              "0.0001"
            ]
          },
          "metadata": {},
          "execution_count": 10
        }
      ]
    },
    {
      "cell_type": "code",
      "source": [
        "# 4\n",
        "\n",
        "p1 = 1220/2820\n",
        "p2 = 945/2400"
      ],
      "metadata": {
        "id": "V9dEqQYdDlZX"
      },
      "execution_count": null,
      "outputs": []
    },
    {
      "cell_type": "code",
      "source": [
        "# Estatística\n",
        "\n",
        "T = (p1 - p2)/np.sqrt((p1*(1-p1)/2820) + (p2*(1-p2)/2400))\n",
        "round(T, 4)"
      ],
      "metadata": {
        "colab": {
          "base_uri": "https://localhost:8080/"
        },
        "id": "htiXbzDeD6EA",
        "outputId": "db72f33e-e2d3-41db-ce7c-563a5947d6a9"
      },
      "execution_count": null,
      "outputs": [
        {
          "output_type": "execute_result",
          "data": {
            "text/plain": [
              "2.8465"
            ]
          },
          "metadata": {},
          "execution_count": 6
        }
      ]
    },
    {
      "cell_type": "code",
      "source": [
        "# Valor-p\n",
        "\n",
        "round(ss.norm.cdf(T, 0, 1), 4)"
      ],
      "metadata": {
        "colab": {
          "base_uri": "https://localhost:8080/"
        },
        "id": "ojGFt60kFCIP",
        "outputId": "2c648514-62b2-43dc-8b04-e2c23cd1a00b"
      },
      "execution_count": null,
      "outputs": [
        {
          "output_type": "execute_result",
          "data": {
            "text/plain": [
              "0.9978"
            ]
          },
          "metadata": {},
          "execution_count": 7
        }
      ]
    },
    {
      "cell_type": "code",
      "source": [
        "# 5\n",
        "\n",
        "p = 200/2400\n",
        "p"
      ],
      "metadata": {
        "colab": {
          "base_uri": "https://localhost:8080/"
        },
        "id": "p2RccbiyIQzL",
        "outputId": "fd541058-bbe2-4b4f-9b6b-9c134d794582"
      },
      "execution_count": null,
      "outputs": [
        {
          "output_type": "execute_result",
          "data": {
            "text/plain": [
              "0.08333333333333333"
            ]
          },
          "metadata": {},
          "execution_count": 2
        }
      ]
    },
    {
      "cell_type": "code",
      "source": [
        "# Estatística\n",
        "\n",
        "T = (p - 0.07)/(np.sqrt(0.07*0.93/2400))\n",
        "round(T, 4)"
      ],
      "metadata": {
        "colab": {
          "base_uri": "https://localhost:8080/"
        },
        "id": "uDRc3hpoIbKL",
        "outputId": "009ee58c-5db0-49df-8109-c6f8476a3614"
      },
      "execution_count": null,
      "outputs": [
        {
          "output_type": "execute_result",
          "data": {
            "text/plain": [
              "2.5601"
            ]
          },
          "metadata": {},
          "execution_count": 3
        }
      ]
    },
    {
      "cell_type": "code",
      "source": [
        "# Valor-p\n",
        "\n",
        "round(ss.norm.cdf(T, 0, 1), 4)"
      ],
      "metadata": {
        "colab": {
          "base_uri": "https://localhost:8080/"
        },
        "id": "f82DdOW6I_18",
        "outputId": "a50b51b2-2098-4307-b0f0-a97a33fd967a"
      },
      "execution_count": null,
      "outputs": [
        {
          "output_type": "execute_result",
          "data": {
            "text/plain": [
              "0.9948"
            ]
          },
          "metadata": {},
          "execution_count": 4
        }
      ]
    }
  ]
}